{
 "cells": [
  {
   "cell_type": "code",
   "execution_count": 1,
   "id": "abdb177b",
   "metadata": {},
   "outputs": [],
   "source": [
    "%%bash\n",
    "rm -rf ag-01-multimodal-text-tabular/\n",
    "rm -rf ag-02-multimodal-tabularpredictor/\n",
    "rm -rf ag-03-multimodal-img-text-tabular/\n",
    "rm -rf ag-04-clip-zeroshot/\n",
    "rm -rf price_of_books product_sentiment ag_automm_tutorial"
   ]
  }
 ],
 "metadata": {
  "kernelspec": {
   "display_name": "conda_mxnet_p37",
   "language": "python",
   "name": "conda_mxnet_p37"
  },
  "language_info": {
   "codemirror_mode": {
    "name": "ipython",
    "version": 3
   },
   "file_extension": ".py",
   "mimetype": "text/x-python",
   "name": "python",
   "nbconvert_exporter": "python",
   "pygments_lexer": "ipython3",
   "version": "3.7.10"
  }
 },
 "nbformat": 4,
 "nbformat_minor": 5
}
