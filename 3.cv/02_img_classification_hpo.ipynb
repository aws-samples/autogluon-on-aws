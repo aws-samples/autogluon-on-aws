{
 "cells": [
  {
   "cell_type": "markdown",
   "id": "2a013002",
   "metadata": {},
   "source": [
    "# Image Classification - Search Space and Hyperparameter Optimization (HPO)\n",
    "\n",
    "한 줄의 코드만으로 쉽게 이미지 분류를 수행할 수 있지만, 보다 높은 분류 성능이 필요하다면 어떤 방법이 있을까요?\n",
    "\n",
    "AutoGluon은 아키텍처 검색을 포함한 적절한 검색 공간(search space)을 찾는 전략과 하이퍼파라메터 최적화(HPO; Hyperparameter Optimization)를 동시에 지원하며, 이를\n",
    "몇 줄의 코드로 간단히 수행합니다. 핸즈온을 통해 체험해 보시죠!\n",
    "\n",
    "- `autogluon.core.searcher`: 최적 하이퍼파라메터 검색 공간 탐색\n",
    "- `autogluon.core.scheduler`: 개별 훈련 작업이 예약되는 방식을 조정하며, FIFO, Hyperband, RL(Reinforcement Learning) 스케줄링을 지원합니다.\n",
    "\n",
    "Searcher와 Scheduler에 대한 좀 더 자세한 예제는 `5.hpo` 폴더의 예제들을 참조하세요.\n",
    "- [Searcher 예제](../5.hpo/01_search_space.ipynb)\n",
    "- [Scheduler에 예제](../5.hpo/02_scheduler.ipynb)"
   ]
  },
  {
   "cell_type": "code",
   "execution_count": 12,
   "id": "138ff3a6",
   "metadata": {},
   "outputs": [],
   "source": [
    "# !pip install --no-cache-dir horovod[pytorch,mxnet]"
   ]
  },
  {
   "cell_type": "code",
   "execution_count": 5,
   "id": "d09873bb",
   "metadata": {},
   "outputs": [],
   "source": [
    "import autogluon.core as ag\n",
    "from autogluon.vision import ImagePredictor"
   ]
  },
  {
   "cell_type": "markdown",
   "id": "4a57ed08",
   "metadata": {},
   "source": [
    "<br>\n",
    "\n",
    "## 1. Data Preparation and Training"
   ]
  },
  {
   "cell_type": "code",
   "execution_count": 6,
   "id": "9008057b",
   "metadata": {},
   "outputs": [
    {
     "name": "stdout",
     "output_type": "stream",
     "text": [
      "data/\n",
      "├── test/\n",
      "└── train/\n"
     ]
    }
   ],
   "source": [
    "train_data, _, test_data = ImagePredictor.Dataset.from_folders('https://autogluon.s3.amazonaws.com/datasets/shopee-iet.zip')"
   ]
  },
  {
   "cell_type": "markdown",
   "id": "9143ba5b",
   "metadata": {},
   "source": [
    "### Specify which Networks to Try\n",
    "\n",
    "AutoGluon-Vision은 GluonCV와 연계하여 사전 훈련된 수많은 컴퓨터 비전 모델들을 제공하고 있습니다. \n",
    "아래 코드는 `autogluon.core.space.Categorical`로 검색 공간을 정의하는 예시를 보여줍니다."
   ]
  },
  {
   "cell_type": "code",
   "execution_count": 7,
   "id": "d8ea54d1",
   "metadata": {},
   "outputs": [
    {
     "data": {
      "text/plain": [
       "('resnet18_v1',\n",
       " 'resnet34_v1',\n",
       " 'resnet50_v1',\n",
       " 'resnet101_v1',\n",
       " 'resnet152_v1',\n",
       " 'resnet18_v2',\n",
       " 'resnet34_v2',\n",
       " 'resnet50_v2',\n",
       " 'resnet101_v2',\n",
       " 'resnet152_v2')"
      ]
     },
     "execution_count": 7,
     "metadata": {},
     "output_type": "execute_result"
    }
   ],
   "source": [
    "# you may choose more than 70+ available model in the model zoo provided by GluonCV:\n",
    "model_list = ImagePredictor.list_models()\n",
    "model_list[:10]"
   ]
  },
  {
   "cell_type": "markdown",
   "id": "11849865",
   "metadata": {},
   "source": [
    "튜토리얼 목적이기 때문에 ResNet-18과 MobileNetV3-Small만 모델 후보로 사용하겠습니다. GPU 메모리가 충분하다면 batch_size를 더 크게 설정하셔도 됩니다.  "
   ]
  },
  {
   "cell_type": "code",
   "execution_count": 8,
   "id": "599b9caa",
   "metadata": {},
   "outputs": [],
   "source": [
    "model = ag.Categorical('resnet18_v1b', 'mobilenetv3_small')\n",
    "lr = ag.Categorical(1e-2, 1e-3)\n",
    "batch_size = 8"
   ]
  },
  {
   "cell_type": "markdown",
   "id": "14721bee",
   "metadata": {},
   "source": [
    "### Search Algorithms\n",
    "\n",
    "AutoGluon의 `autogluon.core.searcher`는 하이퍼파라미터 튜닝과 최적 아키텍처 검색에 대한 검색 전략을 지원합니다. 또한, `autogluon.core.scheduler`는 개별 훈련 작업이 예약되는 방식을 조정하며 0.5.1 버전에서는 랜덤 검색을 지원합니다."
   ]
  },
  {
   "cell_type": "code",
   "execution_count": 9,
   "id": "f82aafc3",
   "metadata": {},
   "outputs": [],
   "source": [
    "hyperparameters = {\n",
    "    'model': model, \n",
    "    'batch_size': batch_size, \n",
    "    'lr': lr, \n",
    "    'epochs': 2\n",
    "}"
   ]
  },
  {
   "cell_type": "markdown",
   "id": "0f796125",
   "metadata": {},
   "source": [
    "아래 코드 셀에서 `num_trials=2`는 빠른 튜토리얼을 위해 추가한 파라메터이기에, 실제로 하이퍼파라메터 튜닝을 수행하실 때는 `num_trials`를 삭제해 주세요!"
   ]
  },
  {
   "cell_type": "code",
   "execution_count": 10,
   "id": "8deff0e3",
   "metadata": {},
   "outputs": [
    {
     "name": "stderr",
     "output_type": "stream",
     "text": [
      "Reset labels to [0, 1, 2, 3]\n",
      "Randomly split train_data into train[720]/validation[80] splits.\n",
      "The number of requested GPUs is greater than the number of available GPUs.Reduce the number to 1\n",
      "Starting HPO experiments\n"
     ]
    },
    {
     "data": {
      "application/vnd.jupyter.widget-view+json": {
       "model_id": "e64e6af0ddce4cd6870670ca4f8ecb01",
       "version_major": 2,
       "version_minor": 0
      },
      "text/plain": [
       "  0%|          | 0/2 [00:00<?, ?it/s]"
      ]
     },
     "metadata": {},
     "output_type": "display_data"
    },
    {
     "name": "stderr",
     "output_type": "stream",
     "text": [
      "=============================================================================\n",
      "WARNING: Using MXNet models in ImagePredictor is deprecated as of v0.4.0 and may contain various bugs and issues!\n",
      "In v0.6.0, ImagePredictor will no longer support training MXNet models. Please consider switching to specifying Torch models instead.\n",
      "Users should ensure they update their code that depends on ImagePredictor when upgrading to future AutoGluon releases.\n",
      "For more information, refer to this GitHub issue: https://github.com/awslabs/autogluon/issues/1560\n",
      "=============================================================================\n",
      "\n",
      "modified configs(<old> != <new>): {\n",
      "root.img_cls.model   resnet50_v1 != resnet18_v1b\n",
      "root.train.early_stop_max_value 1.0 != inf\n",
      "root.train.data_dir  ~/.mxnet/datasets/imagenet != auto\n",
      "root.train.rec_val_idx ~/.mxnet/datasets/imagenet/rec/val.idx != auto\n",
      "root.train.early_stop_patience -1 != 10\n",
      "root.train.rec_train ~/.mxnet/datasets/imagenet/rec/train.rec != auto\n",
      "root.train.epochs    10 != 2\n",
      "root.train.batch_size 128 != 8\n",
      "root.train.rec_val   ~/.mxnet/datasets/imagenet/rec/val.rec != auto\n",
      "root.train.num_training_samples 1281167 != -1\n",
      "root.train.lr        0.1 != 0.01\n",
      "root.train.early_stop_baseline 0.0 != -inf\n",
      "root.train.rec_train_idx ~/.mxnet/datasets/imagenet/rec/train.idx != auto\n",
      "root.valid.batch_size 128 != 8\n",
      "}\n",
      "Saved config to /home/ec2-user/SageMaker/autogluon-on-aws/3.cv/7e426bdc/.trial_0/config.yaml\n",
      "No gpu detected, fallback to cpu. You can ignore this warning if this is intended.\n",
      "Start training from [Epoch 0]\n",
      "Epoch[0] Batch [49]\tSpeed: 14.825169 samples/sec\taccuracy=0.395000\tlr=0.010000\n",
      "[Epoch 0] training: accuracy=0.451389\n",
      "[Epoch 0] speed: 14 samples/sec\ttime cost: 47.950465\n",
      "[Epoch 0] validation: top1=0.662500 top5=1.000000\n",
      "[Epoch 0] Current best top-1: 0.662500 vs previous -inf, saved to /home/ec2-user/SageMaker/autogluon-on-aws/3.cv/7e426bdc/.trial_0/best_checkpoint.pkl\n",
      "Epoch[1] Batch [49]\tSpeed: 14.123797 samples/sec\taccuracy=0.595000\tlr=0.010000\n",
      "[Epoch 1] training: accuracy=0.616667\n",
      "[Epoch 1] speed: 14 samples/sec\ttime cost: 50.292224\n",
      "[Epoch 1] validation: top1=0.775000 top5=1.000000\n",
      "[Epoch 1] Current best top-1: 0.775000 vs previous 0.662500, saved to /home/ec2-user/SageMaker/autogluon-on-aws/3.cv/7e426bdc/.trial_0/best_checkpoint.pkl\n",
      "Applying the state from the best checkpoint...\n",
      "\tStopping HPO to satisfy time limit...\n",
      "=============================================================================\n",
      "WARNING: Using MXNet models in ImagePredictor is deprecated as of v0.4.0 and may contain various bugs and issues!\n",
      "In v0.6.0, ImagePredictor will no longer support training MXNet models. Please consider switching to specifying Torch models instead.\n",
      "Users should ensure they update their code that depends on ImagePredictor when upgrading to future AutoGluon releases.\n",
      "For more information, refer to this GitHub issue: https://github.com/awslabs/autogluon/issues/1560\n",
      "=============================================================================\n",
      "\n",
      "Saving Training Curve in /home/ec2-user/SageMaker/autogluon-on-aws/3.cv/7e426bdc/plot_training_curves.png\n"
     ]
    },
    {
     "data": {
      "image/png": "[encoded data removed]",
      "text/plain": [
       "<Figure size 432x288 with 1 Axes>"
      ]
     },
     "metadata": {
      "needs_background": "light"
     },
     "output_type": "display_data"
    },
    {
     "name": "stderr",
     "output_type": "stream",
     "text": [
      "Finished, total runtime is 104.76 s\n",
      "{ 'best_config': { 'estimator': <class 'gluoncv.auto.estimators.image_classification.image_classification.ImageClassificationEstimator'>,\n",
      "                   'gpus': [0],\n",
      "                   'img_cls': { 'batch_norm': False,\n",
      "                                'last_gamma': False,\n",
      "                                'model': 'resnet18_v1b',\n",
      "                                'use_gn': False,\n",
      "                                'use_pretrained': True,\n",
      "                                'use_se': False},\n",
      "                   'train': { 'batch_size': 8,\n",
      "                              'crop_ratio': 0.875,\n",
      "                              'data_dir': 'auto',\n",
      "                              'dtype': 'float32',\n",
      "                              'early_stop_baseline': -inf,\n",
      "                              'early_stop_max_value': inf,\n",
      "                              'early_stop_min_delta': 0.001,\n",
      "                              'early_stop_patience': 10,\n",
      "                              'epochs': 2,\n",
      "                              'hard_weight': 0.5,\n",
      "                              'input_size': 224,\n",
      "                              'label_smoothing': False,\n",
      "                              'log_interval': 50,\n",
      "                              'lr': 0.01,\n",
      "                              'lr_decay': 0.1,\n",
      "                              'lr_decay_epoch': '40, 60',\n",
      "                              'lr_decay_period': 0,\n",
      "                              'lr_mode': 'step',\n",
      "                              'mixup': False,\n",
      "                              'mixup_alpha': 0.2,\n",
      "                              'mixup_off_epoch': 0,\n",
      "                              'mode': '',\n",
      "                              'momentum': 0.9,\n",
      "                              'no_wd': False,\n",
      "                              'num_training_samples': -1,\n",
      "                              'num_workers': 4,\n",
      "                              'output_lr_mult': 0.1,\n",
      "                              'pretrained_base': True,\n",
      "                              'rec_train': 'auto',\n",
      "                              'rec_train_idx': 'auto',\n",
      "                              'rec_val': 'auto',\n",
      "                              'rec_val_idx': 'auto',\n",
      "                              'resume_epoch': 0,\n",
      "                              'start_epoch': 0,\n",
      "                              'teacher': None,\n",
      "                              'temperature': 20,\n",
      "                              'transfer_lr_mult': 0.01,\n",
      "                              'use_rec': False,\n",
      "                              'warmup_epochs': 0,\n",
      "                              'warmup_lr': 0.0,\n",
      "                              'wd': 0.0001},\n",
      "                   'valid': {'batch_size': 8, 'num_workers': 4}},\n",
      "  'total_time': 104.56708765029907,\n",
      "  'train_acc': 0.6166666666666667,\n",
      "  'valid_acc': 0.775}\n"
     ]
    },
    {
     "name": "stdout",
     "output_type": "stream",
     "text": [
      "Top-1 val acc: 0.775\n",
      "CPU times: user 3min 21s, sys: 9.41 s, total: 3min 31s\n",
      "Wall time: 1min 44s\n"
     ]
    }
   ],
   "source": [
    "%%time\n",
    "predictor = ImagePredictor()\n",
    "predictor.fit(\n",
    "    train_data, time_limit=60*2, \n",
    "    hyperparameters=hyperparameters,\n",
    "    hyperparameter_tune_kwargs={'num_trials': 2}\n",
    ")\n",
    "print('Top-1 val acc: %.3f' % predictor.fit_summary()['valid_acc'])"
   ]
  },
  {
   "cell_type": "code",
   "execution_count": 11,
   "id": "8330e74a",
   "metadata": {},
   "outputs": [
    {
     "name": "stdout",
     "output_type": "stream",
     "text": [
      "Test acc on hold-out data: {'top1': 0.7875, 'top5': 1.0}\n"
     ]
    }
   ],
   "source": [
    "results = predictor.evaluate(test_data)\n",
    "print('Test acc on hold-out data:', results)"
   ]
  }
 ],
 "metadata": {
  "kernelspec": {
   "display_name": "conda_mxnet_p37",
   "language": "python",
   "name": "conda_mxnet_p37"
  },
  "language_info": {
   "codemirror_mode": {
    "name": "ipython",
    "version": 3
   },
   "file_extension": ".py",
   "mimetype": "text/x-python",
   "name": "python",
   "nbconvert_exporter": "python",
   "pygments_lexer": "ipython3",
   "version": "3.7.10"
  }
 },
 "nbformat": 4,
 "nbformat_minor": 5
}
