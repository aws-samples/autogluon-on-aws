{
 "cells": [
  {
   "cell_type": "code",
   "execution_count": 1,
   "id": "3329d7f3",
   "metadata": {},
   "outputs": [],
   "source": [
    "%%bash\n",
    "rm -rf ag-01-img-classification/\n",
    "rm -rf ag-03-object-detection/\n",
    "rm -rf checkpoint"
   ]
  }
 ],
 "metadata": {
  "kernelspec": {
   "display_name": "conda_pytorch_p38",
   "language": "python",
   "name": "conda_pytorch_p38"
  },
  "language_info": {
   "codemirror_mode": {
    "name": "ipython",
    "version": 3
   },
   "file_extension": ".py",
   "mimetype": "text/x-python",
   "name": "python",
   "nbconvert_exporter": "python",
   "pygments_lexer": "ipython3",
   "version": "3.8.12"
  }
 },
 "nbformat": 4,
 "nbformat_minor": 5
}
