{
 "cells": [
  {
   "cell_type": "code",
   "execution_count": 1,
   "id": "63ca26c8",
   "metadata": {},
   "outputs": [],
   "source": [
    "%%bash\n",
    "rm -rf ag-01-sentiment-classifcation-cont-eng/\n",
    "rm -rf ag-01-sentiment-classifcation-eng/\n",
    "rm -rf ag-02-sentiment-classifcation-kor/\n",
    "rm -rf input price_of_books product_sentiment"
   ]
  }
 ],
 "metadata": {
  "kernelspec": {
   "display_name": "conda_pytorch_p38",
   "language": "python",
   "name": "conda_pytorch_p38"
  },
  "language_info": {
   "codemirror_mode": {
    "name": "ipython",
    "version": 3
   },
   "file_extension": ".py",
   "mimetype": "text/x-python",
   "name": "python",
   "nbconvert_exporter": "python",
   "pygments_lexer": "ipython3",
   "version": "3.8.12"
  }
 },
 "nbformat": 4,
 "nbformat_minor": 5
}
