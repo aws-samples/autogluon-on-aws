{
 "cells": [
  {
   "cell_type": "markdown",
   "id": "rubber-lighting",
   "metadata": {},
   "source": [
    "# Multimodal Prediction using TabularPredictor\n",
    "\n",
    "본 핸즈온에서는 TabularPredictor로 multimodal 데이터를 훈련합니다.\n",
    "\n",
    "## TextPredictor & TabularPredictor\n",
    "\n",
    "TextPredictor로도 multimodal 데이터의 훈련이 가능하지만, 만약 XGBoost/LightGBM/CatBoost 등의 Gradient Boosted Tree 알고리즘을 앙상블 및 스태킹하여 모델링하고 싶다면, `TabularPredictor.fit (..., hyperparameters = 'multimodal')`로 훈련할 수도 있습니다. `hyperparameters = 'multimodal'`을 지정하지 않고 훈련 시, AutoGluon Tabular는 텍스트 데이터를 N-gram으로 자동으로 변환 후 tabular 모델만 훈련합니다. \n"
   ]
  },
  {
   "cell_type": "code",
   "execution_count": 1,
   "id": "induced-knock",
   "metadata": {},
   "outputs": [],
   "source": [
    "# GPU 인스턴스를 사용하시면 아래 주석을 해제하고 본 코드 셀을 실행해 주세요.\n",
    "# !pip install --upgrade mxnet-cu100"
   ]
  },
  {
   "cell_type": "code",
   "execution_count": 2,
   "id": "atomic-quilt",
   "metadata": {},
   "outputs": [],
   "source": [
    "import os\n",
    "import mxnet as mx\n",
    "num_gpus = mx.context.num_gpus()\n",
    "\n",
    "if num_gpus == 0:\n",
    "    os.environ['AUTOGLUON_TEXT_TRAIN_WITHOUT_GPU'] = '1'"
   ]
  },
  {
   "cell_type": "code",
   "execution_count": 3,
   "id": "everyday-baltimore",
   "metadata": {},
   "outputs": [],
   "source": [
    "%matplotlib inline\n",
    "import matplotlib.pyplot as plt\n",
    "import numpy as np\n",
    "import pandas as pd\n",
    "import pprint\n",
    "import random\n",
    "from autogluon.tabular import TabularPredictor\n",
    "import mxnet as mx\n",
    "\n",
    "np.random.seed(123)\n",
    "random.seed(123)\n",
    "mx.random.seed(123)"
   ]
  },
  {
   "cell_type": "markdown",
   "id": "incredible-consumption",
   "metadata": {},
   "source": [
    "## 1. Data preparation and Training\n",
    "\n",
    "본 핸즈온은 MachineHack Salary Prediction Hackathon의 제품 리뷰 데이터셋을 사용합니다. 리뷰 점수는 0,1,2,3점의 4개 클래스로 구성되어 있는 다중 클래스 문제입니다."
   ]
  },
  {
   "cell_type": "code",
   "execution_count": 4,
   "id": "legitimate-renewal",
   "metadata": {},
   "outputs": [],
   "source": [
    "save_path = 'ag-04-multimodal-tabularpredictor'\n",
    "!rm -rf $save_path product_sentiment"
   ]
  },
  {
   "cell_type": "code",
   "execution_count": 5,
   "id": "removable-chapter",
   "metadata": {},
   "outputs": [
    {
     "name": "stdout",
     "output_type": "stream",
     "text": [
      "--2021-04-03 10:24:44--  https://autogluon-text-data.s3.amazonaws.com/multimodal_text/machine_hack_product_sentiment/train.csv\n",
      "Resolving autogluon-text-data.s3.amazonaws.com (autogluon-text-data.s3.amazonaws.com)... 52.217.192.121\n",
      "Connecting to autogluon-text-data.s3.amazonaws.com (autogluon-text-data.s3.amazonaws.com)|52.217.192.121|:443... connected.\n",
      "HTTP request sent, awaiting response... 200 OK\n",
      "Length: 689486 (673K) [text/csv]\n",
      "Saving to: ‘product_sentiment/train.csv’\n",
      "\n",
      "product_sentiment/t 100%[===================>] 673.33K   641KB/s    in 1.1s    \n",
      "\n",
      "2021-04-03 10:24:46 (641 KB/s) - ‘product_sentiment/train.csv’ saved [689486/689486]\n",
      "\n",
      "--2021-04-03 10:24:46--  https://autogluon-text-data.s3.amazonaws.com/multimodal_text/machine_hack_product_sentiment/dev.csv\n",
      "Resolving autogluon-text-data.s3.amazonaws.com (autogluon-text-data.s3.amazonaws.com)... 52.217.192.121\n",
      "Connecting to autogluon-text-data.s3.amazonaws.com (autogluon-text-data.s3.amazonaws.com)|52.217.192.121|:443... connected.\n",
      "HTTP request sent, awaiting response... 200 OK\n",
      "Length: 75517 (74K) [text/csv]\n",
      "Saving to: ‘product_sentiment/dev.csv’\n",
      "\n",
      "product_sentiment/d 100%[===================>]  73.75K   211KB/s    in 0.4s    \n",
      "\n",
      "2021-04-03 10:24:47 (211 KB/s) - ‘product_sentiment/dev.csv’ saved [75517/75517]\n",
      "\n",
      "--2021-04-03 10:24:47--  https://autogluon-text-data.s3.amazonaws.com/multimodal_text/machine_hack_product_sentiment/test.csv\n",
      "Resolving autogluon-text-data.s3.amazonaws.com (autogluon-text-data.s3.amazonaws.com)... 52.217.68.44\n",
      "Connecting to autogluon-text-data.s3.amazonaws.com (autogluon-text-data.s3.amazonaws.com)|52.217.68.44|:443... connected.\n",
      "HTTP request sent, awaiting response... 200 OK\n",
      "Length: 312194 (305K) [text/csv]\n",
      "Saving to: ‘product_sentiment/test.csv’\n",
      "\n",
      "product_sentiment/t 100%[===================>] 304.88K   435KB/s    in 0.7s    \n",
      "\n",
      "2021-04-03 10:24:49 (435 KB/s) - ‘product_sentiment/test.csv’ saved [312194/312194]\n",
      "\n"
     ]
    }
   ],
   "source": [
    "!mkdir -p product_sentiment\n",
    "!wget https://autogluon-text-data.s3.amazonaws.com/multimodal_text/machine_hack_product_sentiment/train.csv -O product_sentiment/train.csv\n",
    "!wget https://autogluon-text-data.s3.amazonaws.com/multimodal_text/machine_hack_product_sentiment/dev.csv -O product_sentiment/dev.csv\n",
    "!wget https://autogluon-text-data.s3.amazonaws.com/multimodal_text/machine_hack_product_sentiment/test.csv -O product_sentiment/test.csv"
   ]
  },
  {
   "cell_type": "code",
   "execution_count": 6,
   "id": "intensive-berry",
   "metadata": {},
   "outputs": [
    {
     "name": "stdout",
     "output_type": "stream",
     "text": [
      "Number of training samples: 1000\n",
      "Number of dev samples: 637\n",
      "Number of test samples: 2728\n"
     ]
    }
   ],
   "source": [
    "subsample_size = 1000  # for quick demo, try setting to larger values\n",
    "feature_columns = ['Product_Description', 'Product_Type']\n",
    "label = 'Sentiment'\n",
    "\n",
    "train_df = pd.read_csv('product_sentiment/train.csv', index_col=0).sample(subsample_size, random_state=123)\n",
    "dev_df = pd.read_csv('product_sentiment/dev.csv', index_col=0)\n",
    "test_df = pd.read_csv('product_sentiment/test.csv', index_col=0)\n",
    "\n",
    "train_df = train_df[feature_columns + [label]]\n",
    "dev_df = dev_df[feature_columns + [label]]\n",
    "test_df = test_df[feature_columns]\n",
    "print('Number of training samples:', len(train_df))\n",
    "print('Number of dev samples:', len(dev_df))\n",
    "print('Number of test samples:', len(test_df))"
   ]
  },
  {
   "cell_type": "code",
   "execution_count": 7,
   "id": "nutritional-township",
   "metadata": {},
   "outputs": [
    {
     "data": {
      "text/html": [
       "<div>\n",
       "<style scoped>\n",
       "    .dataframe tbody tr th:only-of-type {\n",
       "        vertical-align: middle;\n",
       "    }\n",
       "\n",
       "    .dataframe tbody tr th {\n",
       "        vertical-align: top;\n",
       "    }\n",
       "\n",
       "    .dataframe thead th {\n",
       "        text-align: right;\n",
       "    }\n",
       "</style>\n",
       "<table border=\"1\" class=\"dataframe\">\n",
       "  <thead>\n",
       "    <tr style=\"text-align: right;\">\n",
       "      <th></th>\n",
       "      <th>Product_Description</th>\n",
       "      <th>Product_Type</th>\n",
       "      <th>Sentiment</th>\n",
       "    </tr>\n",
       "  </thead>\n",
       "  <tbody>\n",
       "    <tr>\n",
       "      <th>4532</th>\n",
       "      <td>they took away the lego pit but replaced it wi...</td>\n",
       "      <td>0</td>\n",
       "      <td>1</td>\n",
       "    </tr>\n",
       "    <tr>\n",
       "      <th>1831</th>\n",
       "      <td>#Apple to Open Pop-Up Shop at #SXSW [REPORT]: ...</td>\n",
       "      <td>9</td>\n",
       "      <td>2</td>\n",
       "    </tr>\n",
       "    <tr>\n",
       "      <th>3536</th>\n",
       "      <td>RT @mention False Alarm: Google Circles Not Co...</td>\n",
       "      <td>5</td>\n",
       "      <td>1</td>\n",
       "    </tr>\n",
       "    <tr>\n",
       "      <th>5157</th>\n",
       "      <td>Will Google reveal a new social network called...</td>\n",
       "      <td>9</td>\n",
       "      <td>2</td>\n",
       "    </tr>\n",
       "    <tr>\n",
       "      <th>4643</th>\n",
       "      <td>Niceness RT @mention Less than 2 hours until w...</td>\n",
       "      <td>6</td>\n",
       "      <td>3</td>\n",
       "    </tr>\n",
       "  </tbody>\n",
       "</table>\n",
       "</div>"
      ],
      "text/plain": [
       "                                    Product_Description  Product_Type  \\\n",
       "4532  they took away the lego pit but replaced it wi...             0   \n",
       "1831  #Apple to Open Pop-Up Shop at #SXSW [REPORT]: ...             9   \n",
       "3536  RT @mention False Alarm: Google Circles Not Co...             5   \n",
       "5157  Will Google reveal a new social network called...             9   \n",
       "4643  Niceness RT @mention Less than 2 hours until w...             6   \n",
       "\n",
       "      Sentiment  \n",
       "4532          1  \n",
       "1831          2  \n",
       "3536          1  \n",
       "5157          2  \n",
       "4643          3  "
      ]
     },
     "execution_count": 7,
     "metadata": {},
     "output_type": "execute_result"
    }
   ],
   "source": [
    "train_df.head(5)"
   ]
  },
  {
   "cell_type": "code",
   "execution_count": 8,
   "id": "weekly-photographer",
   "metadata": {},
   "outputs": [
    {
     "name": "stderr",
     "output_type": "stream",
     "text": [
      "Beginning AutoGluon training ... Time limit = 60s\n",
      "AutoGluon will save models to \"ag-04-multimodal-tabularpredictor/\"\n",
      "AutoGluon Version:  0.1.0\n",
      "Train Data Rows:    1000\n",
      "Train Data Columns: 2\n",
      "Preprocessing data ...\n",
      "AutoGluon infers your prediction problem is: 'multiclass' (because dtype of label-column == int, but few unique label-values observed).\n",
      "\t4 unique label values:  [1, 2, 3, 0]\n",
      "\tIf 'multiclass' is not the correct problem_type, please manually specify the problem_type argument in fit() (You may specify problem_type as one of: ['binary', 'multiclass', 'regression'])\n",
      "NumExpr defaulting to 4 threads.\n",
      "Train Data Class Count: 4\n",
      "Using Feature Generators to preprocess the data ...\n",
      "Fitting AutoMLPipelineFeatureGenerator...\n",
      "\tAvailable Memory:                    60817.5 MB\n",
      "\tTrain Data (Original)  Memory Usage: 0.17 MB (0.0% of available memory)\n",
      "\tInferring data type of each feature based on column values. Set feature_metadata_in to manually specify special dtypes of the features.\n",
      "\tStage 1 Generators:\n",
      "\t\tFitting AsTypeFeatureGenerator...\n",
      "\tStage 2 Generators:\n",
      "\t\tFitting FillNaFeatureGenerator...\n",
      "\tStage 3 Generators:\n",
      "\t\tFitting IdentityFeatureGenerator...\n",
      "\t\tFitting IdentityFeatureGenerator...\n",
      "\t\t\tFitting RenameFeatureGenerator...\n",
      "\t\tFitting CategoryFeatureGenerator...\n",
      "\t\t\tFitting CategoryMemoryMinimizeFeatureGenerator...\n",
      "\t\tFitting TextSpecialFeatureGenerator...\n",
      "\t\t\tFitting BinnedFeatureGenerator...\n",
      "\t\t\tFitting DropDuplicatesFeatureGenerator...\n",
      "\t\tFitting TextNgramFeatureGenerator...\n",
      "\t\t\tFitting CountVectorizer for text features: ['Product_Description']\n",
      "\t\t\tCountVectorizer fit with vocabulary size = 108\n",
      "\tStage 4 Generators:\n",
      "\t\tFitting DropUniqueFeatureGenerator...\n",
      "\tTypes of features in original data (raw dtype, special dtypes):\n",
      "\t\t('int', [])          : 1 | ['Product_Type']\n",
      "\t\t('object', ['text']) : 1 | ['Product_Description']\n",
      "\tTypes of features in processed data (raw dtype, special dtypes):\n",
      "\t\t('int', [])                         :   1 | ['Product_Type']\n",
      "\t\t('int', ['binned', 'text_special']) :  38 | ['Product_Description.char_count', 'Product_Description.word_count', 'Product_Description.capital_ratio', 'Product_Description.lower_ratio', 'Product_Description.digit_ratio', ...]\n",
      "\t\t('int', ['text_ngram'])             : 109 | ['__nlp__.about', '__nlp__.all', '__nlp__.amp', '__nlp__.an', '__nlp__.an ipad', ...]\n",
      "\t\t('object', ['text'])                :   1 | ['Product_Description_raw_text']\n",
      "\t1.1s = Fit runtime\n",
      "\t2 features in original data used to generate 149 features in processed data.\n",
      "\tTrain Data (Processed) Memory Usage: 0.33 MB (0.0% of available memory)\n",
      "Data preprocessing and feature engineering runtime = 1.14s ...\n",
      "AutoGluon will gauge predictive performance using evaluation metric: 'accuracy'\n",
      "\tTo change this, specify the eval_metric argument of fit()\n",
      "Automatically generating train/validation split with holdout_frac=0.2, Train Rows: 800, Val Rows: 200\n",
      "Fitting model: NeuralNetMXNet ... Training model for up to 58.86s of the 58.79s of remaining time.\n",
      "\t0.865\t = Validation accuracy score\n",
      "\t2.91s\t = Training runtime\n",
      "\t0.12s\t = Validation runtime\n",
      "Fitting model: LightGBM ... Training model for up to 55.82s of the 55.75s of remaining time.\n",
      "\t0.855\t = Validation accuracy score\n",
      "\t1.08s\t = Training runtime\n",
      "\t0.01s\t = Validation runtime\n",
      "Fitting model: LightGBMXT ... Training model for up to 54.73s of the 54.66s of remaining time.\n",
      "\t0.845\t = Validation accuracy score\n",
      "\t0.83s\t = Training runtime\n",
      "\t0.01s\t = Validation runtime\n",
      "Fitting model: CatBoost ... Training model for up to 53.87s of the 53.8s of remaining time.\n",
      "\t0.86\t = Validation accuracy score\n",
      "\t0.74s\t = Training runtime\n",
      "\t0.01s\t = Validation runtime\n",
      "Fitting model: XGBoost ... Training model for up to 53.12s of the 53.05s of remaining time.\n",
      "\t0.85\t = Validation accuracy score\n",
      "\t0.85s\t = Training runtime\n",
      "\t0.01s\t = Validation runtime\n",
      "Fitting model: LightGBMLarge ... Training model for up to 52.2s of the 52.13s of remaining time.\n",
      "\t0.845\t = Validation accuracy score\n",
      "\t2.14s\t = Training runtime\n",
      "\t0.01s\t = Validation runtime\n",
      "Fitting model: TextNeuralNetwork ... Training model for up to 50.02s of the 49.94s of remaining time.\n"
     ]
    },
    {
     "name": "stdout",
     "output_type": "stream",
     "text": [
      "All Logs will be saved to /home/ec2-user/SageMaker/autogluon-on-aws/2.nlp/ag-04-multimodal-tabularpredictor/models/TextNeuralNetwork/task0/training.log\n"
     ]
    },
    {
     "name": "stderr",
     "output_type": "stream",
     "text": [
      "[Iter 2/70, Epoch 0] valid accuracy=6.2000e-01, log_loss=8.5257e-01, accuracy=6.2000e-01, time spent=1.544s, total time spent=0.17min. Find new best=True, Find new top-3=True\n",
      "[Iter 4/70, Epoch 0] valid accuracy=8.6000e-01, log_loss=6.9343e-01, accuracy=8.6000e-01, time spent=1.520s, total time spent=0.38min. Find new best=True, Find new top-3=True\n",
      "[Iter 6/70, Epoch 0] valid accuracy=8.6000e-01, log_loss=5.7728e-01, accuracy=8.6000e-01, time spent=1.523s, total time spent=0.59min. Find new best=True, Find new top-3=True\n",
      "[Iter 8/70, Epoch 1] valid accuracy=8.6000e-01, log_loss=5.4352e-01, accuracy=8.6000e-01, time spent=1.533s, total time spent=0.87min. Find new best=True, Find new top-3=True\n"
     ]
    },
    {
     "data": {
      "image/png": "[encoded data removed]",
      "text/plain": [
       "<Figure size 432x288 with 1 Axes>"
      ]
     },
     "metadata": {
      "needs_background": "light"
     },
     "output_type": "display_data"
    },
    {
     "name": "stderr",
     "output_type": "stream",
     "text": [
      "\t0.86\t = Validation accuracy score\n",
      "\t66.56s\t = Training runtime\n",
      "\t2.16s\t = Validation runtime\n",
      "Fitting model: WeightedEnsemble_L2 ... Training model for up to 58.86s of the -24.79s of remaining time.\n",
      "\t0.865\t = Validation accuracy score\n",
      "\t0.31s\t = Training runtime\n",
      "\t0.0s\t = Validation runtime\n",
      "AutoGluon training complete, total runtime = 85.65s ...\n",
      "TabularPredictor saved. To load, use: predictor = TabularPredictor.load(\"ag-04-multimodal-tabularpredictor/\")\n"
     ]
    },
    {
     "data": {
      "text/plain": [
       "<autogluon.tabular.predictor.predictor.TabularPredictor at 0x7f4da1f760f0>"
      ]
     },
     "execution_count": 8,
     "metadata": {},
     "output_type": "execute_result"
    }
   ],
   "source": [
    "from autogluon.tabular import TabularPredictor\n",
    "predictor = TabularPredictor(label='Sentiment', path=save_path)\n",
    "predictor.fit(train_df, hyperparameters='multimodal', time_limit=60)"
   ]
  },
  {
   "cell_type": "markdown",
   "id": "computational-conflict",
   "metadata": {},
   "source": [
    "<br>\n",
    "\n",
    "## 2. Evaluation and Prediction"
   ]
  },
  {
   "cell_type": "code",
   "execution_count": 9,
   "id": "civilian-outreach",
   "metadata": {},
   "outputs": [
    {
     "name": "stdout",
     "output_type": "stream",
     "text": [
      "                 model  score_test  score_val  pred_time_test  pred_time_val   fit_time  pred_time_test_marginal  pred_time_val_marginal  fit_time_marginal  stack_level  can_infer  fit_order\n",
      "0             CatBoost    0.886970      0.860        0.012034       0.011266   0.735564                 0.012034                0.011266           0.735564            1       True          4\n",
      "1    TextNeuralNetwork    0.886970      0.860        7.719705       2.160841  66.564482                 7.719705                2.160841          66.564482            1       True          7\n",
      "2       NeuralNetMXNet    0.885400      0.865        0.189090       0.120658   2.912311                 0.189090                0.120658           2.912311            1       True          1\n",
      "3  WeightedEnsemble_L2    0.885400      0.865        0.201551       0.121253   3.226868                 0.012461                0.000595           0.314557            2       True          8\n",
      "4             LightGBM    0.879121      0.855        0.008870       0.005189   1.076315                 0.008870                0.005189           1.076315            1       True          2\n",
      "5              XGBoost    0.877551      0.850        0.095386       0.006455   0.849035                 0.095386                0.006455           0.849035            1       True          5\n",
      "6        LightGBMLarge    0.864992      0.845        0.029430       0.006510   2.138445                 0.029430                0.006510           2.138445            1       True          6\n",
      "7           LightGBMXT    0.854003      0.845        0.046312       0.008461   0.828814                 0.046312                0.008461           0.828814            1       True          3\n"
     ]
    },
    {
     "data": {
      "text/html": [
       "<div>\n",
       "<style scoped>\n",
       "    .dataframe tbody tr th:only-of-type {\n",
       "        vertical-align: middle;\n",
       "    }\n",
       "\n",
       "    .dataframe tbody tr th {\n",
       "        vertical-align: top;\n",
       "    }\n",
       "\n",
       "    .dataframe thead th {\n",
       "        text-align: right;\n",
       "    }\n",
       "</style>\n",
       "<table border=\"1\" class=\"dataframe\">\n",
       "  <thead>\n",
       "    <tr style=\"text-align: right;\">\n",
       "      <th></th>\n",
       "      <th>model</th>\n",
       "      <th>score_test</th>\n",
       "      <th>score_val</th>\n",
       "      <th>pred_time_test</th>\n",
       "      <th>pred_time_val</th>\n",
       "      <th>fit_time</th>\n",
       "      <th>pred_time_test_marginal</th>\n",
       "      <th>pred_time_val_marginal</th>\n",
       "      <th>fit_time_marginal</th>\n",
       "      <th>stack_level</th>\n",
       "      <th>can_infer</th>\n",
       "      <th>fit_order</th>\n",
       "    </tr>\n",
       "  </thead>\n",
       "  <tbody>\n",
       "    <tr>\n",
       "      <th>0</th>\n",
       "      <td>CatBoost</td>\n",
       "      <td>0.886970</td>\n",
       "      <td>0.860</td>\n",
       "      <td>0.012034</td>\n",
       "      <td>0.011266</td>\n",
       "      <td>0.735564</td>\n",
       "      <td>0.012034</td>\n",
       "      <td>0.011266</td>\n",
       "      <td>0.735564</td>\n",
       "      <td>1</td>\n",
       "      <td>True</td>\n",
       "      <td>4</td>\n",
       "    </tr>\n",
       "    <tr>\n",
       "      <th>1</th>\n",
       "      <td>TextNeuralNetwork</td>\n",
       "      <td>0.886970</td>\n",
       "      <td>0.860</td>\n",
       "      <td>7.719705</td>\n",
       "      <td>2.160841</td>\n",
       "      <td>66.564482</td>\n",
       "      <td>7.719705</td>\n",
       "      <td>2.160841</td>\n",
       "      <td>66.564482</td>\n",
       "      <td>1</td>\n",
       "      <td>True</td>\n",
       "      <td>7</td>\n",
       "    </tr>\n",
       "    <tr>\n",
       "      <th>2</th>\n",
       "      <td>NeuralNetMXNet</td>\n",
       "      <td>0.885400</td>\n",
       "      <td>0.865</td>\n",
       "      <td>0.189090</td>\n",
       "      <td>0.120658</td>\n",
       "      <td>2.912311</td>\n",
       "      <td>0.189090</td>\n",
       "      <td>0.120658</td>\n",
       "      <td>2.912311</td>\n",
       "      <td>1</td>\n",
       "      <td>True</td>\n",
       "      <td>1</td>\n",
       "    </tr>\n",
       "    <tr>\n",
       "      <th>3</th>\n",
       "      <td>WeightedEnsemble_L2</td>\n",
       "      <td>0.885400</td>\n",
       "      <td>0.865</td>\n",
       "      <td>0.201551</td>\n",
       "      <td>0.121253</td>\n",
       "      <td>3.226868</td>\n",
       "      <td>0.012461</td>\n",
       "      <td>0.000595</td>\n",
       "      <td>0.314557</td>\n",
       "      <td>2</td>\n",
       "      <td>True</td>\n",
       "      <td>8</td>\n",
       "    </tr>\n",
       "    <tr>\n",
       "      <th>4</th>\n",
       "      <td>LightGBM</td>\n",
       "      <td>0.879121</td>\n",
       "      <td>0.855</td>\n",
       "      <td>0.008870</td>\n",
       "      <td>0.005189</td>\n",
       "      <td>1.076315</td>\n",
       "      <td>0.008870</td>\n",
       "      <td>0.005189</td>\n",
       "      <td>1.076315</td>\n",
       "      <td>1</td>\n",
       "      <td>True</td>\n",
       "      <td>2</td>\n",
       "    </tr>\n",
       "    <tr>\n",
       "      <th>5</th>\n",
       "      <td>XGBoost</td>\n",
       "      <td>0.877551</td>\n",
       "      <td>0.850</td>\n",
       "      <td>0.095386</td>\n",
       "      <td>0.006455</td>\n",
       "      <td>0.849035</td>\n",
       "      <td>0.095386</td>\n",
       "      <td>0.006455</td>\n",
       "      <td>0.849035</td>\n",
       "      <td>1</td>\n",
       "      <td>True</td>\n",
       "      <td>5</td>\n",
       "    </tr>\n",
       "    <tr>\n",
       "      <th>6</th>\n",
       "      <td>LightGBMLarge</td>\n",
       "      <td>0.864992</td>\n",
       "      <td>0.845</td>\n",
       "      <td>0.029430</td>\n",
       "      <td>0.006510</td>\n",
       "      <td>2.138445</td>\n",
       "      <td>0.029430</td>\n",
       "      <td>0.006510</td>\n",
       "      <td>2.138445</td>\n",
       "      <td>1</td>\n",
       "      <td>True</td>\n",
       "      <td>6</td>\n",
       "    </tr>\n",
       "    <tr>\n",
       "      <th>7</th>\n",
       "      <td>LightGBMXT</td>\n",
       "      <td>0.854003</td>\n",
       "      <td>0.845</td>\n",
       "      <td>0.046312</td>\n",
       "      <td>0.008461</td>\n",
       "      <td>0.828814</td>\n",
       "      <td>0.046312</td>\n",
       "      <td>0.008461</td>\n",
       "      <td>0.828814</td>\n",
       "      <td>1</td>\n",
       "      <td>True</td>\n",
       "      <td>3</td>\n",
       "    </tr>\n",
       "  </tbody>\n",
       "</table>\n",
       "</div>"
      ],
      "text/plain": [
       "                 model  score_test  score_val  pred_time_test  pred_time_val  \\\n",
       "0             CatBoost    0.886970      0.860        0.012034       0.011266   \n",
       "1    TextNeuralNetwork    0.886970      0.860        7.719705       2.160841   \n",
       "2       NeuralNetMXNet    0.885400      0.865        0.189090       0.120658   \n",
       "3  WeightedEnsemble_L2    0.885400      0.865        0.201551       0.121253   \n",
       "4             LightGBM    0.879121      0.855        0.008870       0.005189   \n",
       "5              XGBoost    0.877551      0.850        0.095386       0.006455   \n",
       "6        LightGBMLarge    0.864992      0.845        0.029430       0.006510   \n",
       "7           LightGBMXT    0.854003      0.845        0.046312       0.008461   \n",
       "\n",
       "    fit_time  pred_time_test_marginal  pred_time_val_marginal  \\\n",
       "0   0.735564                 0.012034                0.011266   \n",
       "1  66.564482                 7.719705                2.160841   \n",
       "2   2.912311                 0.189090                0.120658   \n",
       "3   3.226868                 0.012461                0.000595   \n",
       "4   1.076315                 0.008870                0.005189   \n",
       "5   0.849035                 0.095386                0.006455   \n",
       "6   2.138445                 0.029430                0.006510   \n",
       "7   0.828814                 0.046312                0.008461   \n",
       "\n",
       "   fit_time_marginal  stack_level  can_infer  fit_order  \n",
       "0           0.735564            1       True          4  \n",
       "1          66.564482            1       True          7  \n",
       "2           2.912311            1       True          1  \n",
       "3           0.314557            2       True          8  \n",
       "4           1.076315            1       True          2  \n",
       "5           0.849035            1       True          5  \n",
       "6           2.138445            1       True          6  \n",
       "7           0.828814            1       True          3  "
      ]
     },
     "execution_count": 9,
     "metadata": {},
     "output_type": "execute_result"
    }
   ],
   "source": [
    "predictor.leaderboard(dev_df)"
   ]
  },
  {
   "cell_type": "code",
   "execution_count": 10,
   "id": "egyptian-friday",
   "metadata": {},
   "outputs": [
    {
     "name": "stdout",
     "output_type": "stream",
     "text": [
      "Predictive performance on given data: accuracy = 0.8854003139717426\n",
      "0.8854003139717426\n"
     ]
    }
   ],
   "source": [
    "score = predictor.evaluate(dev_df)\n",
    "print(score)"
   ]
  }
 ],
 "metadata": {
  "kernelspec": {
   "display_name": "conda_mxnet_p36",
   "language": "python",
   "name": "conda_mxnet_p36"
  },
  "language_info": {
   "codemirror_mode": {
    "name": "ipython",
    "version": 3
   },
   "file_extension": ".py",
   "mimetype": "text/x-python",
   "name": "python",
   "nbconvert_exporter": "python",
   "pygments_lexer": "ipython3",
   "version": "3.6.13"
  }
 },
 "nbformat": 4,
 "nbformat_minor": 5
}
