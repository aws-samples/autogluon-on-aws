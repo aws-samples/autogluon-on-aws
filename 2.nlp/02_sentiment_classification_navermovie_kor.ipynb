{
 "cells": [
  {
   "cell_type": "markdown",
   "id": "bccc028d",
   "metadata": {},
   "source": [
    "# Sentiment Classification for Movie Review Dataset (Korean)\n",
    "\n",
    "본 핸즈온에서는 네이버 영화 리뷰에 대한 감정(0: 부정, 1: 긍정)을 요약한 네이버 영화 리뷰 데이터셋으로 AutoGluon 훈련을 수행합니다."
   ]
  },
  {
   "cell_type": "code",
   "execution_count": 1,
   "id": "6b4f26a5",
   "metadata": {},
   "outputs": [
    {
     "name": "stdout",
     "output_type": "stream",
     "text": [
      "1\n"
     ]
    }
   ],
   "source": [
    "import os\n",
    "import torch\n",
    "import mxnet as mx\n",
    "num_gpus = torch.cuda.device_count()\n",
    "\n",
    "if num_gpus == 0:\n",
    "    os.environ['AUTOGLUON_TEXT_TRAIN_WITHOUT_GPU'] = '1'\n",
    "\n",
    "print(num_gpus)"
   ]
  },
  {
   "cell_type": "code",
   "execution_count": 2,
   "id": "74648979",
   "metadata": {},
   "outputs": [],
   "source": [
    "import numpy as np\n",
    "import warnings\n",
    "import matplotlib.pyplot as plt\n",
    "warnings.filterwarnings('ignore')\n",
    "np.random.seed(123)"
   ]
  },
  {
   "cell_type": "markdown",
   "id": "e9b082b0",
   "metadata": {},
   "source": [
    "<br>\n",
    "\n",
    "## 1. Data preparation and Training\n",
    "\n",
    "https://github.com/e9t/nsmc/ 에 공개된 네이버 영화 리뷰 데이터셋을 다운로드합니다.\n",
    "훈련 데이터는 총 15만건이며, 테스트 데이터는 총 5만건입니다."
   ]
  },
  {
   "cell_type": "code",
   "execution_count": 3,
   "id": "fe401129",
   "metadata": {},
   "outputs": [],
   "source": [
    "save_path = 'ag-02-sentiment-classifcation-kor'\n",
    "!rm -rf $save_path input"
   ]
  },
  {
   "cell_type": "code",
   "execution_count": 4,
   "id": "17622d81",
   "metadata": {},
   "outputs": [
    {
     "name": "stdout",
     "output_type": "stream",
     "text": [
      "--2022-08-29 10:23:42--  https://raw.githubusercontent.com/e9t/nsmc/master/ratings_train.txt\n",
      "Resolving raw.githubusercontent.com (raw.githubusercontent.com)... 185.199.111.133, 185.199.110.133, 185.199.109.133, ...\n",
      "Connecting to raw.githubusercontent.com (raw.githubusercontent.com)|185.199.111.133|:443... connected.\n",
      "HTTP request sent, awaiting response... 200 OK\n",
      "Length: 14628807 (14M) [text/plain]\n",
      "Saving to: ‘./input/ratings_train.txt’\n",
      "\n",
      "100%[======================================>] 14,628,807  --.-K/s   in 0.04s   \n",
      "\n",
      "2022-08-29 10:23:42 (328 MB/s) - ‘./input/ratings_train.txt’ saved [14628807/14628807]\n",
      "\n",
      "--2022-08-29 10:23:42--  https://raw.githubusercontent.com/e9t/nsmc/master/ratings_test.txt\n",
      "Resolving raw.githubusercontent.com (raw.githubusercontent.com)... 185.199.108.133, 185.199.109.133, 185.199.110.133, ...\n",
      "Connecting to raw.githubusercontent.com (raw.githubusercontent.com)|185.199.108.133|:443... connected.\n",
      "HTTP request sent, awaiting response... 200 OK\n",
      "Length: 4893335 (4.7M) [text/plain]\n",
      "Saving to: ‘./input/ratings_test.txt’\n",
      "\n",
      "100%[======================================>] 4,893,335   --.-K/s   in 0.02s   \n",
      "\n",
      "2022-08-29 10:23:42 (237 MB/s) - ‘./input/ratings_test.txt’ saved [4893335/4893335]\n",
      "\n"
     ]
    }
   ],
   "source": [
    "!wget -nc https://raw.githubusercontent.com/e9t/nsmc/master/ratings_train.txt -P ./input/\n",
    "!wget -nc https://raw.githubusercontent.com/e9t/nsmc/master/ratings_test.txt -P ./input/"
   ]
  },
  {
   "cell_type": "code",
   "execution_count": 5,
   "id": "a0ebb893",
   "metadata": {},
   "outputs": [],
   "source": [
    "import pandas as pd\n",
    "import numpy as np\n",
    "\n",
    "train_df = pd.read_csv('./input/ratings_train.txt', header=0, delimiter='\\t')\n",
    "test_df = pd.read_csv('./input/ratings_test.txt', header=0, delimiter='\\t')\n",
    "train_df = train_df[['document', 'label']]\n",
    "test_df = test_df[['document', 'label']]"
   ]
  },
  {
   "cell_type": "code",
   "execution_count": 6,
   "id": "9aaeb0b0",
   "metadata": {},
   "outputs": [
    {
     "data": {
      "text/html": [
       "<div>\n",
       "<style scoped>\n",
       "    .dataframe tbody tr th:only-of-type {\n",
       "        vertical-align: middle;\n",
       "    }\n",
       "\n",
       "    .dataframe tbody tr th {\n",
       "        vertical-align: top;\n",
       "    }\n",
       "\n",
       "    .dataframe thead th {\n",
       "        text-align: right;\n",
       "    }\n",
       "</style>\n",
       "<table border=\"1\" class=\"dataframe\">\n",
       "  <thead>\n",
       "    <tr style=\"text-align: right;\">\n",
       "      <th></th>\n",
       "      <th>document</th>\n",
       "      <th>label</th>\n",
       "    </tr>\n",
       "  </thead>\n",
       "  <tbody>\n",
       "    <tr>\n",
       "      <th>16269</th>\n",
       "      <td>가벼우면서도 보여줄건 다 보여주는 성실함.</td>\n",
       "      <td>1</td>\n",
       "    </tr>\n",
       "    <tr>\n",
       "      <th>140471</th>\n",
       "      <td>겁나재밌어...ㅋㅋ아는내용그대로나와도보게되긴함..시청률이떨어지고있지만 트로트의연인 ...</td>\n",
       "      <td>1</td>\n",
       "    </tr>\n",
       "    <tr>\n",
       "      <th>78683</th>\n",
       "      <td>젊은시절 이소룡의 광팬이 되어 개봉작마다 개봉 첫날에 영화보기 위해 줄서서 기다렸던...</td>\n",
       "      <td>1</td>\n",
       "    </tr>\n",
       "    <tr>\n",
       "      <th>2605</th>\n",
       "      <td>최악...감동도없고 ....대놓고범죄..ㅡㅡ말도안돼는영화</td>\n",
       "      <td>0</td>\n",
       "    </tr>\n",
       "    <tr>\n",
       "      <th>81156</th>\n",
       "      <td>어머니에게 감사드려요ㅜㅜ</td>\n",
       "      <td>1</td>\n",
       "    </tr>\n",
       "  </tbody>\n",
       "</table>\n",
       "</div>"
      ],
      "text/plain": [
       "                                                 document  label\n",
       "16269                             가벼우면서도 보여줄건 다 보여주는 성실함.      1\n",
       "140471  겁나재밌어...ㅋㅋ아는내용그대로나와도보게되긴함..시청률이떨어지고있지만 트로트의연인 ...      1\n",
       "78683   젊은시절 이소룡의 광팬이 되어 개봉작마다 개봉 첫날에 영화보기 위해 줄서서 기다렸던...      1\n",
       "2605                      최악...감동도없고 ....대놓고범죄..ㅡㅡ말도안돼는영화      0\n",
       "81156                                       어머니에게 감사드려요ㅜㅜ      1"
      ]
     },
     "execution_count": 6,
     "metadata": {},
     "output_type": "execute_result"
    }
   ],
   "source": [
    "from autogluon.tabular import TabularDataset, TabularPredictor\n",
    "train_data = TabularDataset(train_df)\n",
    "test_data = TabularDataset(test_df)\n",
    "\n",
    "subsample_size = 1000  # subsample data for faster demo, try setting this to larger values\n",
    "train_data = train_data.sample(n=subsample_size, random_state=0)\n",
    "test_data = test_data.sample(n=subsample_size, random_state=0)\n",
    "train_data.head(5)"
   ]
  },
  {
   "cell_type": "markdown",
   "id": "24380778",
   "metadata": {},
   "source": [
    "간단한 전처리를 수행합니다. 특수 문자와 한글 외 문자들을 제거하고 중복값 및 결측값을 제외합니다."
   ]
  },
  {
   "cell_type": "code",
   "execution_count": 7,
   "id": "17a534ce",
   "metadata": {},
   "outputs": [],
   "source": [
    "def basic_preprocess(data):\n",
    "    data.drop_duplicates(subset = ['document'], inplace=True)\n",
    "    data['document'] = data['document'].str.replace(\"[^ㄱ-ㅎㅏ-ㅣ가-힣 ]\",\"\")\n",
    "    #data['document'] = data['document'].str.replace(\"[\\,\\(\\)\\{\\}\\[\\]\\`\\'\\!\\?\\:\\;\\-\\=]\", \" \") # 특수문자 제거만 사용\n",
    "    data = data.dropna(how='any')\n",
    "    return data"
   ]
  },
  {
   "cell_type": "code",
   "execution_count": 8,
   "id": "acced424",
   "metadata": {},
   "outputs": [],
   "source": [
    "train_data = basic_preprocess(train_data)\n",
    "test_data = basic_preprocess(test_data)"
   ]
  },
  {
   "cell_type": "markdown",
   "id": "d6e92cf8",
   "metadata": {},
   "source": [
    "훈련 지정 시 좀 더 세부적인 하이퍼파라메터 설정이 필요하다면, 사전 정의된 preset을 사용하시면 편리합니다. TextPredictor는 사전 훈련된 BERT, RoBERT, ELECTRA가 내장되어 있으며, 한국어를 비롯한 다국어에 대한 훈련이 필요하면 `multi_cased_bert_base_fuse_late` preset을 사용하시면 됩니다."
   ]
  },
  {
   "cell_type": "code",
   "execution_count": 9,
   "id": "ae780f5f",
   "metadata": {},
   "outputs": [
    {
     "data": {
      "text/plain": [
       "['default',\n",
       " 'medium_quality_faster_train',\n",
       " 'high_quality',\n",
       " 'best_quality',\n",
       " 'multilingual']"
      ]
     },
     "execution_count": 9,
     "metadata": {},
     "output_type": "execute_result"
    }
   ],
   "source": [
    "from autogluon.text import TextPredictor, list_text_presets\n",
    "list_text_presets()"
   ]
  },
  {
   "cell_type": "code",
   "execution_count": 10,
   "id": "434f02b9",
   "metadata": {},
   "outputs": [
    {
     "data": {
      "text/plain": [
       "{'default': {'model.hf_text.checkpoint_name': 'google/electra-base-discriminator'},\n",
       " 'medium_quality_faster_train': {'model.hf_text.checkpoint_name': 'google/electra-small-discriminator',\n",
       "  'optimization.learning_rate': 0.0004},\n",
       " 'high_quality': {'model.hf_text.checkpoint_name': 'google/electra-base-discriminator'},\n",
       " 'best_quality': {'model.hf_text.checkpoint_name': 'microsoft/deberta-v3-base',\n",
       "  'env.per_gpu_batch_size': 2},\n",
       " 'multilingual': {'model.hf_text.checkpoint_name': 'microsoft/mdeberta-v3-base',\n",
       "  'optimization.top_k': 1,\n",
       "  'env.precision': 'bf16',\n",
       "  'env.per_gpu_batch_size': 4}}"
      ]
     },
     "execution_count": 10,
     "metadata": {},
     "output_type": "execute_result"
    }
   ],
   "source": [
    "list_text_presets(verbose=True)"
   ]
  },
  {
   "cell_type": "markdown",
   "id": "b6ce65b1",
   "metadata": {},
   "source": [
    "### Integrated with HuggingFace's Transformers\n",
    "\n",
    "AutoGluon Text는 2022년부터 Hugging Face의 Transformers와 통합되었습니다. 이는 Hugging Face의 model hub의 모델을 가져와서 파인튜닝할 수 있다는 의미로, Hugging Face의 API 용법을 숙지할 필요가 없기 때문에 Low-code ML 구현에 이상적합니다."
   ]
  },
  {
   "cell_type": "code",
   "execution_count": 11,
   "id": "2cd256f7",
   "metadata": {},
   "outputs": [
    {
     "name": "stderr",
     "output_type": "stream",
     "text": [
      "Global seed set to 123\n"
     ]
    },
    {
     "data": {
      "application/vnd.jupyter.widget-view+json": {
       "model_id": "48222363596a41a28c0aa4aaadc0c704",
       "version_major": 2,
       "version_minor": 0
      },
      "text/plain": [
       "Downloading:   0%|          | 0.00/414 [00:00<?, ?B/s]"
      ]
     },
     "metadata": {},
     "output_type": "display_data"
    },
    {
     "data": {
      "application/vnd.jupyter.widget-view+json": {
       "model_id": "2a9184ecc92a4ba19f8076885d68888e",
       "version_major": 2,
       "version_minor": 0
      },
      "text/plain": [
       "Downloading:   0%|          | 0.00/257k [00:00<?, ?B/s]"
      ]
     },
     "metadata": {},
     "output_type": "display_data"
    },
    {
     "data": {
      "application/vnd.jupyter.widget-view+json": {
       "model_id": "ee8659d42d144555bbd949ecafbbe9ea",
       "version_major": 2,
       "version_minor": 0
      },
      "text/plain": [
       "Downloading:   0%|          | 0.00/521k [00:00<?, ?B/s]"
      ]
     },
     "metadata": {},
     "output_type": "display_data"
    },
    {
     "data": {
      "application/vnd.jupyter.widget-view+json": {
       "model_id": "68f2d36f172c42a5a5f5f9715ddab6c5",
       "version_major": 2,
       "version_minor": 0
      },
      "text/plain": [
       "Downloading:   0%|          | 0.00/112 [00:00<?, ?B/s]"
      ]
     },
     "metadata": {},
     "output_type": "display_data"
    },
    {
     "data": {
      "application/vnd.jupyter.widget-view+json": {
       "model_id": "4bafd2e4566c4ff9a42547a332f726c9",
       "version_major": 2,
       "version_minor": 0
      },
      "text/plain": [
       "Downloading:   0%|          | 0.00/914 [00:00<?, ?B/s]"
      ]
     },
     "metadata": {},
     "output_type": "display_data"
    },
    {
     "data": {
      "application/vnd.jupyter.widget-view+json": {
       "model_id": "c2bdd155efd0460b9040ead31521d595",
       "version_major": 2,
       "version_minor": 0
      },
      "text/plain": [
       "Downloading:   0%|          | 0.00/54.0M [00:00<?, ?B/s]"
      ]
     },
     "metadata": {},
     "output_type": "display_data"
    },
    {
     "name": "stderr",
     "output_type": "stream",
     "text": [
      "Auto select gpus: [0]\n",
      "Using 16bit native Automatic Mixed Precision (AMP)\n",
      "GPU available: True, used: True\n",
      "TPU available: False, using: 0 TPU cores\n",
      "IPU available: False, using: 0 IPUs\n",
      "HPU available: False, using: 0 HPUs\n",
      "LOCAL_RANK: 0 - CUDA_VISIBLE_DEVICES: [0]\n",
      "\n",
      "  | Name              | Type                         | Params\n",
      "-------------------------------------------------------------------\n",
      "0 | model             | HFAutoModelForTextPrediction | 14.1 M\n",
      "1 | validation_metric | Accuracy                     | 0     \n",
      "2 | loss_func         | CrossEntropyLoss             | 0     \n",
      "-------------------------------------------------------------------\n",
      "14.1 M    Trainable params\n",
      "0         Non-trainable params\n",
      "14.1 M    Total params\n",
      "28.113    Total estimated model params size (MB)\n"
     ]
    },
    {
     "data": {
      "application/vnd.jupyter.widget-view+json": {
       "model_id": "",
       "version_major": 2,
       "version_minor": 0
      },
      "text/plain": [
       "Sanity Checking: 0it [00:00, ?it/s]"
      ]
     },
     "metadata": {},
     "output_type": "display_data"
    },
    {
     "data": {
      "application/vnd.jupyter.widget-view+json": {
       "model_id": "b2cb5be6ea464c3ab650c0f46bba8dd9",
       "version_major": 2,
       "version_minor": 0
      },
      "text/plain": [
       "Training: 0it [00:00, ?it/s]"
      ]
     },
     "metadata": {},
     "output_type": "display_data"
    },
    {
     "data": {
      "application/vnd.jupyter.widget-view+json": {
       "model_id": "",
       "version_major": 2,
       "version_minor": 0
      },
      "text/plain": [
       "Validation: 0it [00:00, ?it/s]"
      ]
     },
     "metadata": {},
     "output_type": "display_data"
    },
    {
     "name": "stderr",
     "output_type": "stream",
     "text": [
      "Epoch 0, global step 3: 'val_acc' reached 0.92000 (best 0.92000), saving model to '/home/ec2-user/SageMaker/autogluon-on-aws/2.nlp/ag-02-sentiment-classifcation-kor/epoch=0-step=3.ckpt' as top 3\n"
     ]
    },
    {
     "data": {
      "application/vnd.jupyter.widget-view+json": {
       "model_id": "",
       "version_major": 2,
       "version_minor": 0
      },
      "text/plain": [
       "Validation: 0it [00:00, ?it/s]"
      ]
     },
     "metadata": {},
     "output_type": "display_data"
    },
    {
     "name": "stderr",
     "output_type": "stream",
     "text": [
      "Epoch 0, global step 7: 'val_acc' reached 0.93500 (best 0.93500), saving model to '/home/ec2-user/SageMaker/autogluon-on-aws/2.nlp/ag-02-sentiment-classifcation-kor/epoch=0-step=7.ckpt' as top 3\n"
     ]
    },
    {
     "data": {
      "application/vnd.jupyter.widget-view+json": {
       "model_id": "",
       "version_major": 2,
       "version_minor": 0
      },
      "text/plain": [
       "Validation: 0it [00:00, ?it/s]"
      ]
     },
     "metadata": {},
     "output_type": "display_data"
    },
    {
     "name": "stderr",
     "output_type": "stream",
     "text": [
      "Epoch 1, global step 10: 'val_acc' reached 0.93000 (best 0.93500), saving model to '/home/ec2-user/SageMaker/autogluon-on-aws/2.nlp/ag-02-sentiment-classifcation-kor/epoch=1-step=10.ckpt' as top 3\n"
     ]
    },
    {
     "data": {
      "application/vnd.jupyter.widget-view+json": {
       "model_id": "",
       "version_major": 2,
       "version_minor": 0
      },
      "text/plain": [
       "Validation: 0it [00:00, ?it/s]"
      ]
     },
     "metadata": {},
     "output_type": "display_data"
    },
    {
     "name": "stderr",
     "output_type": "stream",
     "text": [
      "Epoch 1, global step 14: 'val_acc' reached 0.93000 (best 0.93500), saving model to '/home/ec2-user/SageMaker/autogluon-on-aws/2.nlp/ag-02-sentiment-classifcation-kor/epoch=1-step=14.ckpt' as top 3\n",
      "Start to fuse 3 checkpoints via the greedy soup algorithm.\n"
     ]
    },
    {
     "data": {
      "application/vnd.jupyter.widget-view+json": {
       "model_id": "261d79c2c71c4564a584eb063adbc777",
       "version_major": 2,
       "version_minor": 0
      },
      "text/plain": [
       "Predicting: 0it [00:00, ?it/s]"
      ]
     },
     "metadata": {},
     "output_type": "display_data"
    },
    {
     "data": {
      "application/vnd.jupyter.widget-view+json": {
       "model_id": "dfeab0743f2d4435b25d6f7394590d15",
       "version_major": 2,
       "version_minor": 0
      },
      "text/plain": [
       "Predicting: 0it [00:00, ?it/s]"
      ]
     },
     "metadata": {},
     "output_type": "display_data"
    },
    {
     "data": {
      "application/vnd.jupyter.widget-view+json": {
       "model_id": "faea089c0ded400da4a03397ef0bd80a",
       "version_major": 2,
       "version_minor": 0
      },
      "text/plain": [
       "Predicting: 0it [00:00, ?it/s]"
      ]
     },
     "metadata": {},
     "output_type": "display_data"
    },
    {
     "data": {
      "text/plain": [
       "<autogluon.text.text_prediction.predictor.TextPredictor at 0x7f573b263880>"
      ]
     },
     "execution_count": 11,
     "metadata": {},
     "output_type": "execute_result"
    }
   ],
   "source": [
    "from autogluon.text import TextPredictor\n",
    "\n",
    "predictor = TextPredictor(label='label', eval_metric='acc', path=save_path)\n",
    "predictor.set_verbosity(2)\n",
    "\n",
    "predictor.fit(\n",
    "    train_data,\n",
    "    hyperparameters={\n",
    "      'model.hf_text.checkpoint_name': 'daekeun-ml/koelectra-small-v3-nsmc',\n",
    "      'optimization.max_epochs': 2\n",
    "    }\n",
    ")"
   ]
  },
  {
   "cell_type": "markdown",
   "id": "0397e438",
   "metadata": {},
   "source": [
    "<br>\n",
    "\n",
    "## 2. Evaluation and Prediction"
   ]
  },
  {
   "cell_type": "markdown",
   "id": "30454790",
   "metadata": {},
   "source": [
    "### Evaluation\n",
    "\n",
    "`predictor.evaluation()`를 사용하여 평가를 쉽게 수행할 수 있으며, F1 score 등의 추가 metric도 지정 가능합니다."
   ]
  },
  {
   "cell_type": "code",
   "execution_count": 12,
   "id": "28ad009c",
   "metadata": {},
   "outputs": [
    {
     "data": {
      "application/vnd.jupyter.widget-view+json": {
       "model_id": "71ea2f5eee9f476f99dddd356ec932fd",
       "version_major": 2,
       "version_minor": 0
      },
      "text/plain": [
       "Predicting: 0it [00:00, ?it/s]"
      ]
     },
     "metadata": {},
     "output_type": "display_data"
    },
    {
     "name": "stdout",
     "output_type": "stream",
     "text": [
      "{'acc': 0.8868868868868869, 'f1': 0.884102564102564}\n"
     ]
    }
   ],
   "source": [
    "if num_gpus > 0:\n",
    "    test_score = predictor.evaluate(test_data, metrics=['acc', 'f1'])\n",
    "    print(test_score)    "
   ]
  },
  {
   "cell_type": "markdown",
   "id": "ca3b444a",
   "metadata": {},
   "source": [
    "### Prediction\n",
    "`predictor.predict()`으로 예측을 수행할 수 있습니다."
   ]
  },
  {
   "cell_type": "code",
   "execution_count": 13,
   "id": "ce7a657f",
   "metadata": {},
   "outputs": [
    {
     "data": {
      "application/vnd.jupyter.widget-view+json": {
       "model_id": "619bf1bf4e634615909e32baa7a41c56",
       "version_major": 2,
       "version_minor": 0
      },
      "text/plain": [
       "Predicting: 0it [00:00, ?it/s]"
      ]
     },
     "metadata": {},
     "output_type": "display_data"
    },
    {
     "name": "stdout",
     "output_type": "stream",
     "text": [
      "\"Sentence\": 이 영화 너무너무 재미있어요. 인생 최고의 영화입니다. 최고! \"Predicted Sentiment\": 1\n",
      "\"Sentence\": 평점 1점도 아깝습니다..비추 \"Predicted Sentiment\": 0\n"
     ]
    }
   ],
   "source": [
    "sentence1 = \"이 영화 너무너무 재미있어요. 인생 최고의 영화입니다. 최고!\"\n",
    "sentence2 = \"평점 1점도 아깝습니다..비추\"\n",
    "predictions = predictor.predict({'document': [sentence1, sentence2]})\n",
    "print('\"Sentence\":', sentence1, '\"Predicted Sentiment\":', predictions[0])\n",
    "print('\"Sentence\":', sentence2, '\"Predicted Sentiment\":', predictions[1])"
   ]
  },
  {
   "cell_type": "markdown",
   "id": "d7e31a17",
   "metadata": {},
   "source": [
    "### Extract Embeddings\n",
    "훈련된 predictor를 사용하여 임베딩 벡터에 매핑하는 임베딩을 추출할 수도 있습니다."
   ]
  },
  {
   "cell_type": "code",
   "execution_count": 14,
   "id": "536d070b",
   "metadata": {},
   "outputs": [
    {
     "data": {
      "application/vnd.jupyter.widget-view+json": {
       "model_id": "45070293f33e4125bdad87c5a2175124",
       "version_major": 2,
       "version_minor": 0
      },
      "text/plain": [
       "Predicting: 0it [00:00, ?it/s]"
      ]
     },
     "metadata": {},
     "output_type": "display_data"
    },
    {
     "name": "stdout",
     "output_type": "stream",
     "text": [
      "[[ 0.84613824 -0.0617782   0.49753773 ... -0.10038111  0.6010558\n",
      "  -0.83211917]\n",
      " [-0.2658142  -0.06882589 -0.09763969 ... -0.10286628  0.33666134\n",
      "   0.16731662]\n",
      " [ 0.0561719  -0.26758084  0.03778086 ...  0.02988471 -0.33176646\n",
      "   0.42773318]\n",
      " ...\n",
      " [-0.19822933  0.21227556  0.06556442 ... -0.11700189  0.9228656\n",
      "  -0.17247312]\n",
      " [-0.34605423  0.2459117   0.10616192 ... -0.11148816  1.0476282\n",
      "  -0.26367357]\n",
      " [ 0.06941266  0.1493763  -0.43007994 ... -0.02132886 -0.39746076\n",
      "   0.34852082]]\n"
     ]
    }
   ],
   "source": [
    "embeddings = predictor.extract_embedding(test_data)\n",
    "print(embeddings)"
   ]
  },
  {
   "cell_type": "markdown",
   "id": "84e9945f",
   "metadata": {},
   "source": [
    "TSNE를 사용하여 추출된 임베딩을 시각화합니다. 성능 향상을 위해서는 다국어 모델보다는 한국어 전용 모델로 훈련하는 것이 더 유리합니다."
   ]
  },
  {
   "cell_type": "code",
   "execution_count": 15,
   "id": "f714605d",
   "metadata": {},
   "outputs": [
    {
     "data": {
      "application/vnd.jupyter.widget-view+json": {
       "model_id": "03a0ab2258554683a873d5d03ec19dea",
       "version_major": 2,
       "version_minor": 0
      },
      "text/plain": [
       "Predicting: 0it [00:00, ?it/s]"
      ]
     },
     "metadata": {},
     "output_type": "display_data"
    },
    {
     "name": "stdout",
     "output_type": "stream",
     "text": [
      "[[ 0.84613824 -0.0617782   0.49753773 ... -0.10038111  0.6010558\n",
      "  -0.83211917]\n",
      " [-0.2658142  -0.06882589 -0.09763969 ... -0.10286628  0.33666134\n",
      "   0.16731662]\n",
      " [ 0.0561719  -0.26758084  0.03778086 ...  0.02988471 -0.33176646\n",
      "   0.42773318]\n",
      " ...\n",
      " [-0.19822933  0.21227556  0.06556442 ... -0.11700189  0.9228656\n",
      "  -0.17247312]\n",
      " [-0.34605423  0.2459117   0.10616192 ... -0.11148816  1.0476282\n",
      "  -0.26367357]\n",
      " [ 0.06941266  0.1493763  -0.43007994 ... -0.02132886 -0.39746076\n",
      "   0.34852082]]\n"
     ]
    },
    {
     "data": {
      "image/png": "[encoded data removed]",
      "text/plain": [
       "<Figure size 432x288 with 1 Axes>"
      ]
     },
     "metadata": {
      "needs_background": "light"
     },
     "output_type": "display_data"
    }
   ],
   "source": [
    "if num_gpus > 0:\n",
    "    from sklearn.manifold import TSNE\n",
    "    embeddings = predictor.extract_embedding(test_data)\n",
    "    print(embeddings)\n",
    "\n",
    "    X_embedded = TSNE(n_components=2, random_state=123).fit_transform(embeddings)\n",
    "    for val, color in [(0, 'red'), (1, 'blue')]:\n",
    "        idx = (test_data['label'].to_numpy() == val).nonzero()\n",
    "        plt.scatter(X_embedded[idx, 0], X_embedded[idx, 1], c=color, label=f'label={val}')\n",
    "    plt.legend(loc='best')    "
   ]
  }
 ],
 "metadata": {
  "kernelspec": {
   "display_name": "conda_pytorch_p38",
   "language": "python",
   "name": "conda_pytorch_p38"
  },
  "language_info": {
   "codemirror_mode": {
    "name": "ipython",
    "version": 3
   },
   "file_extension": ".py",
   "mimetype": "text/x-python",
   "name": "python",
   "nbconvert_exporter": "python",
   "pygments_lexer": "ipython3",
   "version": "3.8.12"
  }
 },
 "nbformat": 4,
 "nbformat_minor": 5
}
