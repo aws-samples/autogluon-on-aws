{
 "cells": [
  {
   "cell_type": "markdown",
   "id": "public-malta",
   "metadata": {},
   "source": [
    "# Sentiment Classification for Movie Review Dataset (English)\n",
    "\n",
    "본 핸즈온에서는 영화 리뷰에 대한 감정(0: 부정, 1: 긍정)을 요약한 Stanford Sentiment Treebank (SST) 데이터셋으로 AutoGluon 훈련을 수행합니다."
   ]
  },
  {
   "cell_type": "code",
   "execution_count": 1,
   "id": "unknown-logan",
   "metadata": {},
   "outputs": [],
   "source": [
    "# GPU 인스턴스를 사용하시면 아래 주석을 해제하고 본 코드 셀을 실행해 주세요.\n",
    "# !pip install --upgrade mxnet-cu100"
   ]
  },
  {
   "cell_type": "code",
   "execution_count": 2,
   "id": "narrative-maria",
   "metadata": {},
   "outputs": [
    {
     "name": "stdout",
     "output_type": "stream",
     "text": [
      "1\n"
     ]
    }
   ],
   "source": [
    "import os\n",
    "import mxnet as mx\n",
    "num_gpus = mx.context.num_gpus()\n",
    "\n",
    "if num_gpus == 0:\n",
    "    os.environ['AUTOGLUON_TEXT_TRAIN_WITHOUT_GPU'] = '1'\n",
    "\n",
    "print(num_gpus)    "
   ]
  },
  {
   "cell_type": "code",
   "execution_count": 3,
   "id": "demonstrated-irrigation",
   "metadata": {},
   "outputs": [],
   "source": [
    "import numpy as np\n",
    "import warnings\n",
    "import matplotlib.pyplot as plt\n",
    "warnings.filterwarnings('ignore')\n",
    "np.random.seed(123)"
   ]
  },
  {
   "cell_type": "markdown",
   "id": "backed-presence",
   "metadata": {},
   "source": [
    "<br>\n",
    "\n",
    "## 1. Data preparation and Training"
   ]
  },
  {
   "cell_type": "code",
   "execution_count": 4,
   "id": "located-meter",
   "metadata": {},
   "outputs": [],
   "source": [
    "save_path = 'ag-01-sentiment-classifcation-eng'\n",
    "!rm -rf $save_path"
   ]
  },
  {
   "cell_type": "markdown",
   "id": "domestic-likelihood",
   "metadata": {},
   "source": [
    "샘플 데이터셋을 다운로드합니다. parquet와 csv를 지원하며, 원격에 저장된 데이터셋을 다운로드하거나 로컬에서 데이터셋을 직접 로드할 수 있습니다."
   ]
  },
  {
   "cell_type": "code",
   "execution_count": 5,
   "id": "mature-answer",
   "metadata": {},
   "outputs": [
    {
     "data": {
      "text/html": [
       "<div>\n",
       "<style scoped>\n",
       "    .dataframe tbody tr th:only-of-type {\n",
       "        vertical-align: middle;\n",
       "    }\n",
       "\n",
       "    .dataframe tbody tr th {\n",
       "        vertical-align: top;\n",
       "    }\n",
       "\n",
       "    .dataframe thead th {\n",
       "        text-align: right;\n",
       "    }\n",
       "</style>\n",
       "<table border=\"1\" class=\"dataframe\">\n",
       "  <thead>\n",
       "    <tr style=\"text-align: right;\">\n",
       "      <th></th>\n",
       "      <th>sentence</th>\n",
       "      <th>label</th>\n",
       "    </tr>\n",
       "  </thead>\n",
       "  <tbody>\n",
       "    <tr>\n",
       "      <th>43787</th>\n",
       "      <td>very pleasing at its best moments</td>\n",
       "      <td>1</td>\n",
       "    </tr>\n",
       "    <tr>\n",
       "      <th>16159</th>\n",
       "      <td>, american chai is enough to make you put away...</td>\n",
       "      <td>0</td>\n",
       "    </tr>\n",
       "    <tr>\n",
       "      <th>59015</th>\n",
       "      <td>too much like an infomercial for ram dass 's l...</td>\n",
       "      <td>0</td>\n",
       "    </tr>\n",
       "    <tr>\n",
       "      <th>5108</th>\n",
       "      <td>a stirring visual sequence</td>\n",
       "      <td>1</td>\n",
       "    </tr>\n",
       "    <tr>\n",
       "      <th>67052</th>\n",
       "      <td>cool visual backmasking</td>\n",
       "      <td>1</td>\n",
       "    </tr>\n",
       "  </tbody>\n",
       "</table>\n",
       "</div>"
      ],
      "text/plain": [
       "                                                sentence  label\n",
       "43787                 very pleasing at its best moments       1\n",
       "16159  , american chai is enough to make you put away...      0\n",
       "59015  too much like an infomercial for ram dass 's l...      0\n",
       "5108                         a stirring visual sequence       1\n",
       "67052                           cool visual backmasking       1"
      ]
     },
     "execution_count": 5,
     "metadata": {},
     "output_type": "execute_result"
    }
   ],
   "source": [
    "from autogluon.core.utils.loaders.load_pd import load\n",
    "train_data = load('https://autogluon-text.s3-accelerate.amazonaws.com/glue/sst/train.parquet')\n",
    "test_data = load('https://autogluon-text.s3-accelerate.amazonaws.com/glue/sst/dev.parquet')\n",
    "subsample_size = 1000  # subsample data for faster demo, try setting this to larger values\n",
    "train_data = train_data.sample(n=subsample_size, random_state=0)\n",
    "train_data.head(5)"
   ]
  },
  {
   "cell_type": "markdown",
   "id": "listed-month",
   "metadata": {},
   "source": [
    "훈련 지정 시 좀 더 세부적인 하이퍼파라메터 설정이 필요하다면, 사전 정의된 preset을 사용하시면 편리합니다. TextPredictor는 사전 훈련된 BERT, RoBERT, ELECTRA가 내장되어 있으며, 한국어를 비롯한 다국어에 대한 훈련이 필요하면 `multi_cased_bert_base_fuse_late` preset을 사용하시면 됩니다."
   ]
  },
  {
   "cell_type": "code",
   "execution_count": 6,
   "id": "regulated-solomon",
   "metadata": {},
   "outputs": [
    {
     "data": {
      "text/plain": [
       "{'simple_presets': ['default',\n",
       "  'lower_quality_fast_train',\n",
       "  'medium_quality_faster_train',\n",
       "  'best_quality'],\n",
       " 'advanced_presets': ['electra_small_fuse_late',\n",
       "  'electra_base_fuse_late',\n",
       "  'electra_large_fuse_late',\n",
       "  'roberta_base_fuse_late',\n",
       "  'multi_cased_bert_base_fuse_late',\n",
       "  'electra_base_fuse_early',\n",
       "  'electra_base_all_text']}"
      ]
     },
     "execution_count": 6,
     "metadata": {},
     "output_type": "execute_result"
    }
   ],
   "source": [
    "from autogluon.text import TextPredictor, ag_text_presets, list_presets\n",
    "list_presets()"
   ]
  },
  {
   "cell_type": "code",
   "execution_count": 7,
   "id": "gothic-childhood",
   "metadata": {},
   "outputs": [
    {
     "name": "stderr",
     "output_type": "stream",
     "text": [
      "INFO:root:NumPy-shape semantics has been activated in your code. This is required for creating and manipulating scalar and zero-size tensors, which were not supported in MXNet before, as in the official NumPy library. Please DO NOT manually deactivate this semantics while using `mxnet.numpy` and `mxnet.numpy_extension` modules.\n",
      "INFO:autogluon.text.text_prediction.mx.models:The GluonNLP V0 backend is used. We will use 4 cpus and 1 gpus to train each trial.\n"
     ]
    },
    {
     "name": "stdout",
     "output_type": "stream",
     "text": [
      "All Logs will be saved to /home/ec2-user/SageMaker/autogluon-on-aws/2.nlp/ag-01-sentiment-classifcation-eng/task0/training.log\n"
     ]
    },
    {
     "name": "stderr",
     "output_type": "stream",
     "text": [
      "INFO:root:Fitting and transforming the train data...\n",
      "INFO:root:Done! Preprocessor saved to /home/ec2-user/SageMaker/autogluon-on-aws/2.nlp/ag-01-sentiment-classifcation-eng/task0/preprocessor.pkl\n",
      "INFO:root:Process dev set...\n",
      "INFO:root:Done!\n",
      "INFO:root:Max length for chunking text: 64, Stochastic chunk: Train-False/Test-False, Test #repeat: 1.\n",
      "INFO:root:#Total Params/Fixed Params=108990466/0\n",
      "Level 15:root:Using gradient accumulation. Global batch size = 128\n",
      "INFO:root:Local training results will be saved to /home/ec2-user/SageMaker/autogluon-on-aws/2.nlp/ag-01-sentiment-classifcation-eng/task0/results_local.jsonl.\n",
      "Level 15:root:[Iter 1/70, Epoch 0] train loss=8.65e-01, gnorm=8.62e+00, lr=1.43e-05, #samples processed=128, #sample per second=37.84. ETA=3.89min\n",
      "Level 15:root:[Iter 2/70, Epoch 0] train loss=8.16e-01, gnorm=5.78e+00, lr=2.86e-05, #samples processed=128, #sample per second=51.31. ETA=3.33min\n",
      "Level 25:root:[Iter 2/70, Epoch 0] valid f1=7.2204e-01, mcc=0.0000e+00, roc_auc=4.2641e-01, accuracy=5.6500e-01, log_loss=1.0885e+00, time spent=1.206s, total time spent=0.14min. Find new best=True, Find new top-3=True\n",
      "Level 15:root:[Iter 3/70, Epoch 0] train loss=1.31e+00, gnorm=1.47e+01, lr=4.29e-05, #samples processed=128, #sample per second=25.85. ETA=4.03min\n",
      "Level 15:root:[Iter 4/70, Epoch 0] train loss=1.06e+00, gnorm=1.96e+01, lr=5.71e-05, #samples processed=128, #sample per second=54.91. ETA=3.62min\n",
      "Level 25:root:[Iter 4/70, Epoch 0] valid f1=7.2441e-01, mcc=2.7279e-01, roc_auc=6.4429e-01, accuracy=6.5000e-01, log_loss=6.6376e-01, time spent=1.203s, total time spent=0.32min. Find new best=True, Find new top-3=True\n",
      "Level 15:root:[Iter 5/70, Epoch 0] train loss=6.40e-01, gnorm=3.67e+00, lr=7.14e-05, #samples processed=128, #sample per second=15.90. ETA=4.60min\n",
      "Level 15:root:[Iter 6/70, Epoch 0] train loss=6.62e-01, gnorm=4.23e+00, lr=8.57e-05, #samples processed=128, #sample per second=51.23. ETA=4.22min\n",
      "Level 25:root:[Iter 6/70, Epoch 0] valid f1=7.7291e-01, mcc=4.1499e-01, roc_auc=7.6757e-01, accuracy=7.1500e-01, log_loss=5.8874e-01, time spent=1.211s, total time spent=0.54min. Find new best=True, Find new top-3=True\n",
      "Level 15:root:[Iter 7/70, Epoch 0] train loss=6.61e-01, gnorm=3.36e+00, lr=1.00e-04, #samples processed=128, #sample per second=11.59. ETA=5.21min\n",
      "Level 15:root:[Iter 8/70, Epoch 1] train loss=5.51e-01, gnorm=3.00e+00, lr=9.84e-05, #samples processed=128, #sample per second=58.16. ETA=4.77min\n",
      "Level 25:root:[Iter 8/70, Epoch 1] valid f1=7.8571e-01, mcc=4.4830e-01, roc_auc=8.7072e-01, accuracy=7.3000e-01, log_loss=4.8944e-01, time spent=1.203s, total time spent=0.78min. Find new best=True, Find new top-3=True\n",
      "Level 15:root:[Iter 9/70, Epoch 1] train loss=5.68e-01, gnorm=3.14e+00, lr=9.68e-05, #samples processed=128, #sample per second=10.57. ETA=5.54min\n",
      "Level 15:root:[Iter 10/70, Epoch 1] train loss=5.27e-01, gnorm=6.23e+00, lr=9.52e-05, #samples processed=128, #sample per second=57.60. ETA=5.13min\n",
      "Level 25:root:[Iter 10/70, Epoch 1] valid f1=8.4921e-01, mcc=6.2355e-01, roc_auc=9.3124e-01, accuracy=8.1000e-01, log_loss=3.8663e-01, time spent=1.193s, total time spent=1.10min. Find new best=True, Find new top-3=True\n",
      "Level 15:root:[Iter 11/70, Epoch 1] train loss=3.48e-01, gnorm=4.35e+00, lr=9.37e-05, #samples processed=128, #sample per second=7.64. ETA=6.08min\n",
      "Level 15:root:[Iter 12/70, Epoch 1] train loss=3.17e-01, gnorm=8.43e+00, lr=9.21e-05, #samples processed=128, #sample per second=58.07. ETA=5.66min\n",
      "Level 25:root:[Iter 12/70, Epoch 1] valid f1=8.6463e-01, mcc=6.8374e-01, roc_auc=9.1974e-01, accuracy=8.4500e-01, log_loss=3.6034e-01, time spent=1.196s, total time spent=1.34min. Find new best=True, Find new top-3=True\n",
      "Level 15:root:[Iter 13/70, Epoch 1] train loss=3.97e-01, gnorm=4.51e+00, lr=9.05e-05, #samples processed=128, #sample per second=10.49. ETA=6.03min\n",
      "Level 15:root:[Iter 14/70, Epoch 1] train loss=5.56e-01, gnorm=1.34e+01, lr=8.89e-05, #samples processed=128, #sample per second=60.39. ETA=5.64min\n",
      "Level 25:root:[Iter 14/70, Epoch 1] valid f1=8.6381e-01, mcc=6.6579e-01, roc_auc=8.8506e-01, accuracy=8.2500e-01, log_loss=6.8871e-01, time spent=1.199s, total time spent=1.50min. Find new best=False, Find new top-3=True\n",
      "Level 15:root:[Iter 15/70, Epoch 2] train loss=3.22e-01, gnorm=1.09e+01, lr=8.73e-05, #samples processed=128, #sample per second=17.43. ETA=5.62min\n",
      "Level 15:root:[Iter 16/70, Epoch 2] train loss=3.11e-01, gnorm=6.47e+00, lr=8.57e-05, #samples processed=128, #sample per second=58.32. ETA=5.29min\n",
      "Level 25:root:[Iter 16/70, Epoch 2] valid f1=8.8789e-01, mcc=7.4705e-01, roc_auc=9.4080e-01, accuracy=8.7500e-01, log_loss=3.5825e-01, time spent=1.195s, total time spent=1.73min. Find new best=True, Find new top-3=True\n",
      "Level 15:root:[Iter 17/70, Epoch 2] train loss=4.21e-01, gnorm=6.16e+00, lr=8.41e-05, #samples processed=128, #sample per second=10.61. ETA=5.52min\n",
      "Level 15:root:[Iter 18/70, Epoch 2] train loss=2.05e-01, gnorm=3.99e+00, lr=8.25e-05, #samples processed=128, #sample per second=56.72. ETA=5.22min\n",
      "Level 25:root:[Iter 18/70, Epoch 2] valid f1=8.7603e-01, mcc=6.9796e-01, roc_auc=9.3297e-01, accuracy=8.5000e-01, log_loss=4.0848e-01, time spent=1.202s, total time spent=1.89min. Find new best=False, Find new top-3=True\n",
      "INFO:numexpr.utils:NumExpr defaulting to 4 threads.\n"
     ]
    },
    {
     "data": {
      "image/png": "[encoded data removed]",
      "text/plain": [
       "<Figure size 432x288 with 1 Axes>"
      ]
     },
     "metadata": {
      "needs_background": "light"
     },
     "output_type": "display_data"
    },
    {
     "name": "stderr",
     "output_type": "stream",
     "text": [
      "INFO:root:Training completed. Auto-saving to \"ag-01-sentiment-classifcation-eng/\". For loading the model, you can use `predictor = TextPredictor.load(\"ag-01-sentiment-classifcation-eng/\")`\n"
     ]
    },
    {
     "data": {
      "text/plain": [
       "<autogluon.text.text_prediction.predictor.predictor.TextPredictor at 0x7f8bbcf31128>"
      ]
     },
     "execution_count": 7,
     "metadata": {},
     "output_type": "execute_result"
    }
   ],
   "source": [
    "predictor = TextPredictor(label='label', eval_metric='acc', path=save_path)\n",
    "predictor.fit(train_data, time_limit=120)"
   ]
  },
  {
   "cell_type": "markdown",
   "id": "shared-netherlands",
   "metadata": {},
   "source": [
    "<br>\n",
    "\n",
    "## 2. Evaluation and Prediction"
   ]
  },
  {
   "cell_type": "markdown",
   "id": "behind-barbados",
   "metadata": {},
   "source": [
    "### Evaluation\n",
    "`predictor.evaluation()`를 사용하여 평가를 쉽게 수행할 수 있으며, F1 score 등의 추가 metric도 지정 가능합니다."
   ]
  },
  {
   "cell_type": "code",
   "execution_count": 8,
   "id": "compliant-custom",
   "metadata": {},
   "outputs": [
    {
     "name": "stdout",
     "output_type": "stream",
     "text": [
      "{'acc': 0.8807339449541285, 'f1': 0.8862144420131292}\n"
     ]
    }
   ],
   "source": [
    "if num_gpus > 0:\n",
    "    test_score = predictor.evaluate(test_data, metrics=['acc', 'f1'])\n",
    "    print(test_score)    "
   ]
  },
  {
   "cell_type": "markdown",
   "id": "excited-third",
   "metadata": {},
   "source": [
    "### Prediction\n",
    "`predictor.predict()`으로 예측을 수행할 수 있습니다."
   ]
  },
  {
   "cell_type": "code",
   "execution_count": 9,
   "id": "absolute-charger",
   "metadata": {},
   "outputs": [
    {
     "name": "stdout",
     "output_type": "stream",
     "text": [
      "\"Sentence\": it's a charming and often affecting journey. \"Predicted Sentiment\": 1\n",
      "\"Sentence\": It's slow, very, very, very slow. \"Predicted Sentiment\": 0\n"
     ]
    }
   ],
   "source": [
    "sentence1 = \"it's a charming and often affecting journey.\"\n",
    "sentence2 = \"It's slow, very, very, very slow.\"\n",
    "predictions = predictor.predict({'sentence': [sentence1, sentence2]})\n",
    "print('\"Sentence\":', sentence1, '\"Predicted Sentiment\":', predictions[0])\n",
    "print('\"Sentence\":', sentence2, '\"Predicted Sentiment\":', predictions[1])"
   ]
  },
  {
   "cell_type": "code",
   "execution_count": 10,
   "id": "intelligent-stewart",
   "metadata": {},
   "outputs": [
    {
     "name": "stdout",
     "output_type": "stream",
     "text": [
      "\"Sentence\": it's a charming and often affecting journey. \"Predicted Class-Probabilities\": 0    0.003528\n",
      "1    0.858346\n",
      "Name: 0, dtype: float32\n",
      "\"Sentence\": It's slow, very, very, very slow. \"Predicted Class-Probabilities\": 0    0.996472\n",
      "1    0.141654\n",
      "Name: 1, dtype: float32\n"
     ]
    }
   ],
   "source": [
    "probs = predictor.predict_proba({'sentence': [sentence1, sentence2]})\n",
    "print('\"Sentence\":', sentence1, '\"Predicted Class-Probabilities\":', probs[0])\n",
    "print('\"Sentence\":', sentence2, '\"Predicted Class-Probabilities\":', probs[1])"
   ]
  },
  {
   "cell_type": "markdown",
   "id": "voluntary-confidentiality",
   "metadata": {},
   "source": [
    "전체 데이터셋에 대해 추론을 수행할 수도 있습니다."
   ]
  },
  {
   "cell_type": "code",
   "execution_count": 11,
   "id": "sonic-special",
   "metadata": {},
   "outputs": [],
   "source": [
    "# test_predictions = predictor.predict(test_data)\n",
    "# test_predictions.head()"
   ]
  },
  {
   "cell_type": "markdown",
   "id": "fatal-jaguar",
   "metadata": {},
   "source": [
    "### Save and Load\n",
    "\n",
    "predictor는 `fit()` 함수로 모델 훈련 시에 자동으로 모델을 저장하며, `load()` 함수를 통해 재로드할 수 있습니다. 물론 `save()` 함수로 모델을 저장하는 것도 가능합니다."
   ]
  },
  {
   "cell_type": "code",
   "execution_count": 12,
   "id": "first-correspondence",
   "metadata": {},
   "outputs": [
    {
     "data": {
      "text/html": [
       "<div>\n",
       "<style scoped>\n",
       "    .dataframe tbody tr th:only-of-type {\n",
       "        vertical-align: middle;\n",
       "    }\n",
       "\n",
       "    .dataframe tbody tr th {\n",
       "        vertical-align: top;\n",
       "    }\n",
       "\n",
       "    .dataframe thead th {\n",
       "        text-align: right;\n",
       "    }\n",
       "</style>\n",
       "<table border=\"1\" class=\"dataframe\">\n",
       "  <thead>\n",
       "    <tr style=\"text-align: right;\">\n",
       "      <th></th>\n",
       "      <th>0</th>\n",
       "      <th>1</th>\n",
       "    </tr>\n",
       "  </thead>\n",
       "  <tbody>\n",
       "    <tr>\n",
       "      <th>0</th>\n",
       "      <td>0.003528</td>\n",
       "      <td>0.996472</td>\n",
       "    </tr>\n",
       "    <tr>\n",
       "      <th>1</th>\n",
       "      <td>0.858346</td>\n",
       "      <td>0.141654</td>\n",
       "    </tr>\n",
       "  </tbody>\n",
       "</table>\n",
       "</div>"
      ],
      "text/plain": [
       "          0         1\n",
       "0  0.003528  0.996472\n",
       "1  0.858346  0.141654"
      ]
     },
     "execution_count": 12,
     "metadata": {},
     "output_type": "execute_result"
    }
   ],
   "source": [
    "loaded_predictor = TextPredictor.load(save_path)\n",
    "loaded_predictor.predict_proba({'sentence': [sentence1, sentence2]})"
   ]
  },
  {
   "cell_type": "markdown",
   "id": "greek-scratch",
   "metadata": {},
   "source": [
    "### Extract Embeddings\n",
    "훈련된 predictor를 사용하여 임베딩 벡터에 매핑하는 임베딩을 추출할 수도 있습니다.\n",
    "\n",
    "아래 코드 셀에서 TSNE를 사용하여 추출된 임베딩을 시각화합니다. 두 레이블에 해당하는 두 개의 클러스터가 잘 분포해 있음을 확인할 수 있습니다."
   ]
  },
  {
   "cell_type": "code",
   "execution_count": 13,
   "id": "backed-generic",
   "metadata": {},
   "outputs": [
    {
     "name": "stdout",
     "output_type": "stream",
     "text": [
      "[[ 0.23319031 -0.04136189  0.2742091  ...  0.1303752  -0.24239728\n",
      "   1.0140389 ]\n",
      " [ 0.49042472  0.23526464  0.4349817  ...  0.9807976  -0.20670925\n",
      "   0.09477104]\n",
      " [ 0.41341352  0.06978591  0.76847196 ...  0.19275138 -0.27951372\n",
      "   1.088757  ]\n",
      " ...\n",
      " [ 0.3054491   0.22168979  0.65621275 ...  0.43303698 -0.25910324\n",
      "   0.66667205]\n",
      " [ 0.7086195   0.08047009  0.28435352 ...  0.7470766  -0.30694845\n",
      "   0.3219078 ]\n",
      " [ 0.0629569   0.20363383  0.46859905 ...  0.18429926 -0.5948148\n",
      "   0.7804712 ]]\n"
     ]
    },
    {
     "data": {
      "image/png": "[encoded data removed]",
      "text/plain": [
       "<Figure size 432x288 with 1 Axes>"
      ]
     },
     "metadata": {
      "needs_background": "light"
     },
     "output_type": "display_data"
    }
   ],
   "source": [
    "if num_gpus > 0:\n",
    "    from sklearn.manifold import TSNE\n",
    "    embeddings = predictor.extract_embedding(test_data)\n",
    "    print(embeddings)\n",
    "    \n",
    "    X_embedded = TSNE(n_components=2, random_state=123).fit_transform(embeddings)\n",
    "    for val, color in [(0, 'red'), (1, 'blue')]:\n",
    "        idx = (test_data['label'].to_numpy() == val).nonzero()\n",
    "        plt.scatter(X_embedded[idx, 0], X_embedded[idx, 1], c=color, label=f'label={val}')\n",
    "    plt.legend(loc='best')    "
   ]
  }
 ],
 "metadata": {
  "kernelspec": {
   "display_name": "conda_mxnet_p36",
   "language": "python",
   "name": "conda_mxnet_p36"
  },
  "language_info": {
   "codemirror_mode": {
    "name": "ipython",
    "version": 3
   },
   "file_extension": ".py",
   "mimetype": "text/x-python",
   "name": "python",
   "nbconvert_exporter": "python",
   "pygments_lexer": "ipython3",
   "version": "3.6.13"
  }
 },
 "nbformat": 4,
 "nbformat_minor": 5
}
