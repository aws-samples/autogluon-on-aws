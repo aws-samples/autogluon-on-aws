{
 "cells": [
  {
   "cell_type": "markdown",
   "id": "crucial-assessment",
   "metadata": {},
   "source": [
    "# Multimodal Prediction using TextPredictor\n",
    "\n",
    "본 핸즈온에서는 TextPredictor로 multimodal 데이터를 훈련합니다.\n",
    "\n",
    "텍스트 데이터는 수치형/범주형 데이터과 같이 사용될 수 있습니다. AutoGluon의 TextPredictor는 텍스트, 범주 및 수치형 컬럼을 비롯한 여러 피쳐들을 입력으로 받아 모델을 자동으로 훈련할 수 있습니다.\n",
    "\n",
    "- 텍스트 열: 사전 훈련된 Transformer(BERT) backbone을 사용하여 데이터를 인코딩합니다. \n",
    "- 범주형 열: Embedding-MLP을 통해 범주형 데이터를 인코딩합니다.\n",
    "- 수치형 열: 표준 MLP를 사용하여 범주형 데이터를 인코딩합니다.\n",
    "\n",
    "## TextPredictor & TabularPredictor\n",
    "\n",
    "TextPredictor로도 multimodal 데이터의 훈련이 가능하지만, 만약 XGBoost/LightGBM/CatBoost 등의 Gradient Boosted Tree 알고리즘을 앙상블 및 스태킹하여 모델링하고 싶다면, `TabularPredictor.fit (..., hyperparameters = 'multimodal')`로 훈련할 수도 있습니다. `hyperparameters = 'multimodal'`을 지정하지 않고 훈련 시, AutoGluon Tabular는 텍스트 데이터를 N-gram으로 자동으로 변환 후 tabular 모델만 훈련합니다. "
   ]
  },
  {
   "cell_type": "code",
   "execution_count": 1,
   "id": "threaded-hypothetical",
   "metadata": {},
   "outputs": [],
   "source": [
    "# GPU 인스턴스를 사용하시면 아래 주석을 해제하고 본 코드 셀을 실행해 주세요.\n",
    "# !pip install --upgrade mxnet-cu100"
   ]
  },
  {
   "cell_type": "code",
   "execution_count": 2,
   "id": "convenient-preserve",
   "metadata": {},
   "outputs": [
    {
     "name": "stdout",
     "output_type": "stream",
     "text": [
      "1\n"
     ]
    }
   ],
   "source": [
    "import os\n",
    "import mxnet as mx\n",
    "num_gpus = mx.context.num_gpus()\n",
    "\n",
    "if num_gpus == 0:\n",
    "    os.environ['AUTOGLUON_TEXT_TRAIN_WITHOUT_GPU'] = '1'\n",
    "\n",
    "print(num_gpus)    "
   ]
  },
  {
   "cell_type": "code",
   "execution_count": 3,
   "id": "threaded-trustee",
   "metadata": {},
   "outputs": [],
   "source": [
    "import numpy as np\n",
    "import pandas as pd\n",
    "import os\n",
    "import warnings\n",
    "warnings.filterwarnings('ignore')\n",
    "np.random.seed(123)\n",
    "\n",
    "%load_ext autoreload\n",
    "%autoreload 2"
   ]
  },
  {
   "cell_type": "code",
   "execution_count": 4,
   "id": "tough-responsibility",
   "metadata": {},
   "outputs": [
    {
     "name": "stdout",
     "output_type": "stream",
     "text": [
      "Requirement already satisfied: openpyxl in /home/ec2-user/anaconda3/envs/mxnet_p36/lib/python3.6/site-packages (3.0.6)\n",
      "Requirement already satisfied: et-xmlfile in /home/ec2-user/anaconda3/envs/mxnet_p36/lib/python3.6/site-packages (from openpyxl) (1.0.1)\n",
      "Requirement already satisfied: jdcal in /home/ec2-user/anaconda3/envs/mxnet_p36/lib/python3.6/site-packages (from openpyxl) (1.4.1)\n"
     ]
    }
   ],
   "source": [
    "!python3 -m pip install openpyxl"
   ]
  },
  {
   "cell_type": "markdown",
   "id": "normal-prague",
   "metadata": {},
   "source": [
    "<br>\n",
    "\n",
    "## 1. Data preparation and Training\n",
    "\n",
    "본 핸즈온은 MachineHack Salary Prediction Hackathon의 도서 가격 예측 데이터셋을 사용합니다. 저자, 초록, 책의 등급 등과 같은 다양한 피쳐를 고려하여 도서의 가격을 예측합니다."
   ]
  },
  {
   "cell_type": "markdown",
   "id": "departmental-ozone",
   "metadata": {},
   "source": [
    "### Data preparation"
   ]
  },
  {
   "cell_type": "code",
   "execution_count": 5,
   "id": "caroline-donor",
   "metadata": {},
   "outputs": [],
   "source": [
    "save_path = 'ag-03-multimodal-textpredictor'\n",
    "!rm -rf $save_path price_of_books"
   ]
  },
  {
   "cell_type": "code",
   "execution_count": 6,
   "id": "israeli-boulder",
   "metadata": {},
   "outputs": [
    {
     "name": "stdout",
     "output_type": "stream",
     "text": [
      "--2021-04-03 10:20:10--  https://automl-mm-bench.s3.amazonaws.com/machine_hack_competitions/predict_the_price_of_books/Data.zip\n",
      "Resolving automl-mm-bench.s3.amazonaws.com (automl-mm-bench.s3.amazonaws.com)... 52.217.42.228\n",
      "Connecting to automl-mm-bench.s3.amazonaws.com (automl-mm-bench.s3.amazonaws.com)|52.217.42.228|:443... connected.\n",
      "HTTP request sent, awaiting response... 200 OK\n",
      "Length: 3521673 (3.4M) [application/zip]\n",
      "Saving to: ‘price_of_books/Data.zip’\n",
      "\n",
      "price_of_books/Data 100%[===================>]   3.36M  2.41MB/s    in 1.4s    \n",
      "\n",
      "2021-04-03 10:20:13 (2.41 MB/s) - ‘price_of_books/Data.zip’ saved [3521673/3521673]\n",
      "\n",
      "Archive:  Data.zip\n",
      "  inflating: Participants_Data/Data_Test.xlsx  \n",
      "  inflating: Participants_Data/Data_Train.xlsx  \n",
      "  inflating: Participants_Data/Sample_Submission.xlsx  \n",
      "Data_Test.xlsx\tData_Train.xlsx  Sample_Submission.xlsx\n"
     ]
    }
   ],
   "source": [
    "!mkdir -p price_of_books\n",
    "!wget https://automl-mm-bench.s3.amazonaws.com/machine_hack_competitions/predict_the_price_of_books/Data.zip -O price_of_books/Data.zip\n",
    "!cd price_of_books && unzip -o Data.zip\n",
    "!ls price_of_books/Participants_Data"
   ]
  },
  {
   "cell_type": "code",
   "execution_count": 7,
   "id": "lined-chemical",
   "metadata": {},
   "outputs": [
    {
     "data": {
      "text/html": [
       "<div>\n",
       "<style scoped>\n",
       "    .dataframe tbody tr th:only-of-type {\n",
       "        vertical-align: middle;\n",
       "    }\n",
       "\n",
       "    .dataframe tbody tr th {\n",
       "        vertical-align: top;\n",
       "    }\n",
       "\n",
       "    .dataframe thead th {\n",
       "        text-align: right;\n",
       "    }\n",
       "</style>\n",
       "<table border=\"1\" class=\"dataframe\">\n",
       "  <thead>\n",
       "    <tr style=\"text-align: right;\">\n",
       "      <th></th>\n",
       "      <th>Title</th>\n",
       "      <th>Author</th>\n",
       "      <th>Edition</th>\n",
       "      <th>Reviews</th>\n",
       "      <th>Ratings</th>\n",
       "      <th>Synopsis</th>\n",
       "      <th>Genre</th>\n",
       "      <th>BookCategory</th>\n",
       "      <th>Price</th>\n",
       "    </tr>\n",
       "  </thead>\n",
       "  <tbody>\n",
       "    <tr>\n",
       "      <th>0</th>\n",
       "      <td>The Prisoner's Gold (The Hunters 3)</td>\n",
       "      <td>Chris Kuzneski</td>\n",
       "      <td>Paperback,– 10 Mar 2016</td>\n",
       "      <td>4.0 out of 5 stars</td>\n",
       "      <td>8 customer reviews</td>\n",
       "      <td>THE HUNTERS return in their third brilliant no...</td>\n",
       "      <td>Action &amp; Adventure (Books)</td>\n",
       "      <td>Action &amp; Adventure</td>\n",
       "      <td>220.00</td>\n",
       "    </tr>\n",
       "    <tr>\n",
       "      <th>1</th>\n",
       "      <td>Guru Dutt: A Tragedy in Three Acts</td>\n",
       "      <td>Arun Khopkar</td>\n",
       "      <td>Paperback,– 7 Nov 2012</td>\n",
       "      <td>3.9 out of 5 stars</td>\n",
       "      <td>14 customer reviews</td>\n",
       "      <td>A layered portrait of a troubled genius for wh...</td>\n",
       "      <td>Cinema &amp; Broadcast (Books)</td>\n",
       "      <td>Biographies, Diaries &amp; True Accounts</td>\n",
       "      <td>202.93</td>\n",
       "    </tr>\n",
       "    <tr>\n",
       "      <th>2</th>\n",
       "      <td>Leviathan (Penguin Classics)</td>\n",
       "      <td>Thomas Hobbes</td>\n",
       "      <td>Paperback,– 25 Feb 1982</td>\n",
       "      <td>4.8 out of 5 stars</td>\n",
       "      <td>6 customer reviews</td>\n",
       "      <td>\"During the time men live without a common Pow...</td>\n",
       "      <td>International Relations</td>\n",
       "      <td>Humour</td>\n",
       "      <td>299.00</td>\n",
       "    </tr>\n",
       "    <tr>\n",
       "      <th>3</th>\n",
       "      <td>A Pocket Full of Rye (Miss Marple)</td>\n",
       "      <td>Agatha Christie</td>\n",
       "      <td>Paperback,– 5 Oct 2017</td>\n",
       "      <td>4.1 out of 5 stars</td>\n",
       "      <td>13 customer reviews</td>\n",
       "      <td>A handful of grain is found in the pocket of a...</td>\n",
       "      <td>Contemporary Fiction (Books)</td>\n",
       "      <td>Crime, Thriller &amp; Mystery</td>\n",
       "      <td>180.00</td>\n",
       "    </tr>\n",
       "    <tr>\n",
       "      <th>4</th>\n",
       "      <td>LIFE 70 Years of Extraordinary Photography</td>\n",
       "      <td>Editors of Life</td>\n",
       "      <td>Hardcover,– 10 Oct 2006</td>\n",
       "      <td>5.0 out of 5 stars</td>\n",
       "      <td>1 customer review</td>\n",
       "      <td>For seven decades, \"Life\" has been thrilling t...</td>\n",
       "      <td>Photography Textbooks</td>\n",
       "      <td>Arts, Film &amp; Photography</td>\n",
       "      <td>965.62</td>\n",
       "    </tr>\n",
       "  </tbody>\n",
       "</table>\n",
       "</div>"
      ],
      "text/plain": [
       "                                        Title           Author  \\\n",
       "0         The Prisoner's Gold (The Hunters 3)   Chris Kuzneski   \n",
       "1          Guru Dutt: A Tragedy in Three Acts     Arun Khopkar   \n",
       "2                Leviathan (Penguin Classics)    Thomas Hobbes   \n",
       "3          A Pocket Full of Rye (Miss Marple)  Agatha Christie   \n",
       "4  LIFE 70 Years of Extraordinary Photography  Editors of Life   \n",
       "\n",
       "                   Edition             Reviews              Ratings  \\\n",
       "0  Paperback,– 10 Mar 2016  4.0 out of 5 stars   8 customer reviews   \n",
       "1   Paperback,– 7 Nov 2012  3.9 out of 5 stars  14 customer reviews   \n",
       "2  Paperback,– 25 Feb 1982  4.8 out of 5 stars   6 customer reviews   \n",
       "3   Paperback,– 5 Oct 2017  4.1 out of 5 stars  13 customer reviews   \n",
       "4  Hardcover,– 10 Oct 2006  5.0 out of 5 stars    1 customer review   \n",
       "\n",
       "                                            Synopsis  \\\n",
       "0  THE HUNTERS return in their third brilliant no...   \n",
       "1  A layered portrait of a troubled genius for wh...   \n",
       "2  \"During the time men live without a common Pow...   \n",
       "3  A handful of grain is found in the pocket of a...   \n",
       "4  For seven decades, \"Life\" has been thrilling t...   \n",
       "\n",
       "                          Genre                          BookCategory   Price  \n",
       "0    Action & Adventure (Books)                    Action & Adventure  220.00  \n",
       "1    Cinema & Broadcast (Books)  Biographies, Diaries & True Accounts  202.93  \n",
       "2       International Relations                                Humour  299.00  \n",
       "3  Contemporary Fiction (Books)             Crime, Thriller & Mystery  180.00  \n",
       "4         Photography Textbooks              Arts, Film & Photography  965.62  "
      ]
     },
     "execution_count": 7,
     "metadata": {},
     "output_type": "execute_result"
    }
   ],
   "source": [
    "train_df = pd.read_excel(os.path.join('price_of_books', 'Participants_Data', 'Data_Train.xlsx'), engine='openpyxl')\n",
    "train_df.head()"
   ]
  },
  {
   "cell_type": "code",
   "execution_count": 8,
   "id": "hazardous-campbell",
   "metadata": {},
   "outputs": [],
   "source": [
    "def preprocess(df):\n",
    "    df = df.copy(deep=True)\n",
    "    df.loc[:, 'Reviews'] = pd.to_numeric(df['Reviews'].apply(lambda ele: ele[:-len(' out of 5 stars')]))\n",
    "    df.loc[:, 'Ratings'] = pd.to_numeric(df['Ratings'].apply(lambda ele: ele.replace(',', '')[:-len(' customer reviews')]))\n",
    "    df.loc[:, 'Price'] = np.log(df['Price'] + 1)\n",
    "    return df"
   ]
  },
  {
   "cell_type": "code",
   "execution_count": 9,
   "id": "parallel-daisy",
   "metadata": {},
   "outputs": [
    {
     "data": {
      "text/html": [
       "<div>\n",
       "<style scoped>\n",
       "    .dataframe tbody tr th:only-of-type {\n",
       "        vertical-align: middle;\n",
       "    }\n",
       "\n",
       "    .dataframe tbody tr th {\n",
       "        vertical-align: top;\n",
       "    }\n",
       "\n",
       "    .dataframe thead th {\n",
       "        text-align: right;\n",
       "    }\n",
       "</style>\n",
       "<table border=\"1\" class=\"dataframe\">\n",
       "  <thead>\n",
       "    <tr style=\"text-align: right;\">\n",
       "      <th></th>\n",
       "      <th>Title</th>\n",
       "      <th>Author</th>\n",
       "      <th>Edition</th>\n",
       "      <th>Reviews</th>\n",
       "      <th>Ratings</th>\n",
       "      <th>Synopsis</th>\n",
       "      <th>Genre</th>\n",
       "      <th>BookCategory</th>\n",
       "      <th>Price</th>\n",
       "    </tr>\n",
       "  </thead>\n",
       "  <tbody>\n",
       "    <tr>\n",
       "      <th>949</th>\n",
       "      <td>Furious Hours</td>\n",
       "      <td>Casey Cep</td>\n",
       "      <td>Paperback,– 1 Jun 2019</td>\n",
       "      <td>4.0</td>\n",
       "      <td>NaN</td>\n",
       "      <td>‘It’s been a long time since I picked up a boo...</td>\n",
       "      <td>True Accounts (Books)</td>\n",
       "      <td>Biographies, Diaries &amp; True Accounts</td>\n",
       "      <td>5.743003</td>\n",
       "    </tr>\n",
       "    <tr>\n",
       "      <th>5504</th>\n",
       "      <td>REST API Design Rulebook</td>\n",
       "      <td>Mark Masse</td>\n",
       "      <td>Paperback,– 7 Nov 2011</td>\n",
       "      <td>5.0</td>\n",
       "      <td>NaN</td>\n",
       "      <td>In todays market, where rival web services com...</td>\n",
       "      <td>Computing, Internet &amp; Digital Media (Books)</td>\n",
       "      <td>Computing, Internet &amp; Digital Media</td>\n",
       "      <td>5.786897</td>\n",
       "    </tr>\n",
       "    <tr>\n",
       "      <th>5856</th>\n",
       "      <td>The Atlantropa Articles: A Novel</td>\n",
       "      <td>Cody Franklin</td>\n",
       "      <td>Paperback,– Import, 1 Nov 2018</td>\n",
       "      <td>4.5</td>\n",
       "      <td>2.0</td>\n",
       "      <td>#1 Amazon Best Seller! Dystopian Alternate His...</td>\n",
       "      <td>Action &amp; Adventure (Books)</td>\n",
       "      <td>Romance</td>\n",
       "      <td>6.893656</td>\n",
       "    </tr>\n",
       "    <tr>\n",
       "      <th>4137</th>\n",
       "      <td>Hickory Dickory Dock (Poirot)</td>\n",
       "      <td>Agatha Christie</td>\n",
       "      <td>Paperback,– 5 Oct 2017</td>\n",
       "      <td>4.3</td>\n",
       "      <td>21.0</td>\n",
       "      <td>There’s more than petty theft going on in a Lo...</td>\n",
       "      <td>Action &amp; Adventure (Books)</td>\n",
       "      <td>Crime, Thriller &amp; Mystery</td>\n",
       "      <td>5.192957</td>\n",
       "    </tr>\n",
       "    <tr>\n",
       "      <th>3205</th>\n",
       "      <td>The Stanley Kubrick Archives (Bibliotheca Univ...</td>\n",
       "      <td>Alison Castle</td>\n",
       "      <td>Hardcover,– 21 Aug 2016</td>\n",
       "      <td>4.6</td>\n",
       "      <td>3.0</td>\n",
       "      <td>In 1968, when Stanley Kubrick was asked to com...</td>\n",
       "      <td>Cinema &amp; Broadcast (Books)</td>\n",
       "      <td>Humour</td>\n",
       "      <td>6.889591</td>\n",
       "    </tr>\n",
       "  </tbody>\n",
       "</table>\n",
       "</div>"
      ],
      "text/plain": [
       "                                                  Title           Author  \\\n",
       "949                                       Furious Hours        Casey Cep   \n",
       "5504                           REST API Design Rulebook       Mark Masse   \n",
       "5856                   The Atlantropa Articles: A Novel    Cody Franklin   \n",
       "4137                      Hickory Dickory Dock (Poirot)  Agatha Christie   \n",
       "3205  The Stanley Kubrick Archives (Bibliotheca Univ...    Alison Castle   \n",
       "\n",
       "                             Edition  Reviews  Ratings  \\\n",
       "949           Paperback,– 1 Jun 2019      4.0      NaN   \n",
       "5504          Paperback,– 7 Nov 2011      5.0      NaN   \n",
       "5856  Paperback,– Import, 1 Nov 2018      4.5      2.0   \n",
       "4137          Paperback,– 5 Oct 2017      4.3     21.0   \n",
       "3205         Hardcover,– 21 Aug 2016      4.6      3.0   \n",
       "\n",
       "                                               Synopsis  \\\n",
       "949   ‘It’s been a long time since I picked up a boo...   \n",
       "5504  In todays market, where rival web services com...   \n",
       "5856  #1 Amazon Best Seller! Dystopian Alternate His...   \n",
       "4137  There’s more than petty theft going on in a Lo...   \n",
       "3205  In 1968, when Stanley Kubrick was asked to com...   \n",
       "\n",
       "                                            Genre  \\\n",
       "949                         True Accounts (Books)   \n",
       "5504  Computing, Internet & Digital Media (Books)   \n",
       "5856                   Action & Adventure (Books)   \n",
       "4137                   Action & Adventure (Books)   \n",
       "3205                   Cinema & Broadcast (Books)   \n",
       "\n",
       "                              BookCategory     Price  \n",
       "949   Biographies, Diaries & True Accounts  5.743003  \n",
       "5504   Computing, Internet & Digital Media  5.786897  \n",
       "5856                               Romance  6.893656  \n",
       "4137             Crime, Thriller & Mystery  5.192957  \n",
       "3205                                Humour  6.889591  "
      ]
     },
     "execution_count": 9,
     "metadata": {},
     "output_type": "execute_result"
    }
   ],
   "source": [
    "train_subsample_size = 1500  # subsample for faster demo, you can try setting to larger values\n",
    "test_subsample_size = 5\n",
    "train_df = preprocess(train_df)\n",
    "train_data = train_df.iloc[100:].sample(train_subsample_size, random_state=123)\n",
    "test_data = train_df.iloc[:100].sample(test_subsample_size, random_state=245)\n",
    "train_data.head()"
   ]
  },
  {
   "cell_type": "markdown",
   "id": "exciting-medicare",
   "metadata": {},
   "source": [
    "### Training\n",
    "\n",
    "시간을 절약하기 위해 데이터를 서브샘플링하고 2분 동안만 훈련합니다. 도서의 가격을 예측하는 Regression 모델이기에, RMSE(Root Mean Squared Error)가 디폴트 metric입니다."
   ]
  },
  {
   "cell_type": "code",
   "execution_count": 10,
   "id": "preceding-stanford",
   "metadata": {},
   "outputs": [
    {
     "name": "stderr",
     "output_type": "stream",
     "text": [
      "INFO:root:NumPy-shape semantics has been activated in your code. This is required for creating and manipulating scalar and zero-size tensors, which were not supported in MXNet before, as in the official NumPy library. Please DO NOT manually deactivate this semantics while using `mxnet.numpy` and `mxnet.numpy_extension` modules.\n",
      "INFO:autogluon.text.text_prediction.mx.models:The GluonNLP V0 backend is used. We will use 4 cpus and 1 gpus to train each trial.\n"
     ]
    },
    {
     "name": "stdout",
     "output_type": "stream",
     "text": [
      "All Logs will be saved to /home/ec2-user/SageMaker/autogluon-on-aws/2.nlp/ag-03-multimodal-textpredictor/task0/training.log\n"
     ]
    },
    {
     "name": "stderr",
     "output_type": "stream",
     "text": [
      "INFO:root:Fitting and transforming the train data...\n",
      "INFO:root:Done! Preprocessor saved to /home/ec2-user/SageMaker/autogluon-on-aws/2.nlp/ag-03-multimodal-textpredictor/task0/preprocessor.pkl\n",
      "INFO:root:Process dev set...\n",
      "INFO:root:Done!\n",
      "INFO:root:Max length for chunking text: 480, Stochastic chunk: Train-False/Test-False, Test #repeat: 1.\n",
      "INFO:root:#Total Params/Fixed Params=109338913/0\n",
      "Level 15:root:Using gradient accumulation. Global batch size = 128\n",
      "INFO:root:Local training results will be saved to /home/ec2-user/SageMaker/autogluon-on-aws/2.nlp/ag-03-multimodal-textpredictor/task0/results_local.jsonl.\n",
      "Level 15:root:[Iter 1/100, Epoch 0] train loss=2.78e+00, gnorm=7.03e+01, lr=1.00e-05, #samples processed=128, #sample per second=5.00. ETA=42.25min\n",
      "Level 15:root:[Iter 2/100, Epoch 0] train loss=1.85e+00, gnorm=3.65e+01, lr=2.00e-05, #samples processed=128, #sample per second=5.21. ETA=40.96min\n",
      "Level 25:root:[Iter 2/100, Epoch 0] valid r2=-8.3807e-01, root_mean_squared_error=1.0906e+00, mean_absolute_error=9.1505e-01, time spent=20.248s, total time spent=1.19min. Find new best=True, Find new top-3=True\n",
      "Level 15:root:[Iter 3/100, Epoch 0] train loss=2.13e+00, gnorm=4.65e+01, lr=3.00e-05, #samples processed=128, #sample per second=2.87. ETA=51.06min\n",
      "Level 15:root:[Iter 4/100, Epoch 0] train loss=2.99e+00, gnorm=7.08e+01, lr=4.00e-05, #samples processed=128, #sample per second=5.53. ETA=47.16min\n",
      "Level 25:root:[Iter 4/100, Epoch 0] valid r2=-4.7267e-01, root_mean_squared_error=9.7617e-01, mean_absolute_error=8.1618e-01, time spent=19.589s, total time spent=2.37min. Find new best=True, Find new top-3=True\n"
     ]
    },
    {
     "data": {
      "image/png": "[encoded data removed]",
      "text/plain": [
       "<Figure size 432x288 with 1 Axes>"
      ]
     },
     "metadata": {
      "needs_background": "light"
     },
     "output_type": "display_data"
    },
    {
     "name": "stderr",
     "output_type": "stream",
     "text": [
      "INFO:root:Training completed. Auto-saving to \"ag-03-multimodal-textpredictor/\". For loading the model, you can use `predictor = TextPredictor.load(\"ag-03-multimodal-textpredictor/\")`\n"
     ]
    },
    {
     "data": {
      "text/plain": [
       "<autogluon.text.text_prediction.predictor.predictor.TextPredictor at 0x7f44db3fcc50>"
      ]
     },
     "execution_count": 10,
     "metadata": {},
     "output_type": "execute_result"
    }
   ],
   "source": [
    "from autogluon.text import TextPredictor\n",
    "time_limit = 2 * 60  # set to larger value in your applications\n",
    "predictor = TextPredictor(label='Price', path=save_path)\n",
    "predictor.fit(train_data, time_limit=time_limit)"
   ]
  },
  {
   "cell_type": "markdown",
   "id": "prescribed-porcelain",
   "metadata": {},
   "source": [
    "<br>\n",
    "\n",
    "## 2. Prediction"
   ]
  },
  {
   "cell_type": "code",
   "execution_count": 11,
   "id": "sealed-munich",
   "metadata": {},
   "outputs": [
    {
     "name": "stdout",
     "output_type": "stream",
     "text": [
      "Predictions:\n",
      "------------\n",
      "1      606.085999\n",
      "31     645.757874\n",
      "19    1181.846680\n",
      "45    1355.217407\n",
      "82    1138.167480\n",
      "Name: Price, dtype: float32\n",
      "\n",
      "True Value:\n",
      "------------\n",
      "1     202.93\n",
      "31    799.00\n",
      "19    352.00\n",
      "45    395.10\n",
      "82    409.00\n",
      "Name: Price, dtype: float64\n"
     ]
    }
   ],
   "source": [
    "predictions = predictor.predict(test_data)\n",
    "print('Predictions:')\n",
    "print('------------')\n",
    "print(np.exp(predictions) - 1)\n",
    "print()\n",
    "print('True Value:')\n",
    "print('------------')\n",
    "print(np.exp(test_data['Price']) - 1)"
   ]
  },
  {
   "cell_type": "code",
   "execution_count": 12,
   "id": "indie-notice",
   "metadata": {},
   "outputs": [
    {
     "name": "stdout",
     "output_type": "stream",
     "text": [
      "1.0253359079360962\n"
     ]
    }
   ],
   "source": [
    "performance = predictor.evaluate(test_data)\n",
    "print(performance)"
   ]
  },
  {
   "cell_type": "code",
   "execution_count": 13,
   "id": "divine-blues",
   "metadata": {},
   "outputs": [
    {
     "name": "stdout",
     "output_type": "stream",
     "text": [
      "[[-0.27092642  0.1401582  -0.09910554 ...  0.11673778 -0.09213806\n",
      "   0.03709367]\n",
      " [-0.19558154  0.23744594 -0.11637109 ...  0.00473959 -0.03823385\n",
      "   0.02328855]\n",
      " [-0.2608093   0.3268228  -0.15648955 ... -0.48997772  0.38420254\n",
      "   0.24232599]\n",
      " [-0.25369692  0.2165618  -0.146528   ... -0.0716395   0.02360643\n",
      "   0.30796123]\n",
      " [-0.37136218  0.41238376 -0.03291351 ...  0.05975762 -0.11187598\n",
      "   0.18020561]]\n"
     ]
    }
   ],
   "source": [
    "embeddings = predictor.extract_embedding(test_data)\n",
    "print(embeddings)"
   ]
  }
 ],
 "metadata": {
  "kernelspec": {
   "display_name": "conda_mxnet_p36",
   "language": "python",
   "name": "conda_mxnet_p36"
  },
  "language_info": {
   "codemirror_mode": {
    "name": "ipython",
    "version": 3
   },
   "file_extension": ".py",
   "mimetype": "text/x-python",
   "name": "python",
   "nbconvert_exporter": "python",
   "pygments_lexer": "ipython3",
   "version": "3.6.13"
  }
 },
 "nbformat": 4,
 "nbformat_minor": 5
}
