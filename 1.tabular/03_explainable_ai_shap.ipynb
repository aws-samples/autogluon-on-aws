{
 "cells": [
  {
   "cell_type": "markdown",
   "id": "structured-sampling",
   "metadata": {},
   "source": [
    "# XAI(Explainable AI): Kernel SHAP for Classification\n",
    "\n",
    "본 핸즈온에서는 앙상블과 같은 블랙 박스 모델을 설명하는 데 적합한 SHAP(SHapley Additive exPlanations)을 사용하는 예시를 보여줍니다. SHAP은 전체 셋의 feature importance가 아니라 각 샘플 데이터마다 예측에 얼마나 기여했는지 정량화가 가능합니다.\n",
    "\n",
    "## SHAP(SHapley Additive exPlanations)\n",
    "\n",
    "SHAP에 대한 심화 주제는 아래 논문과 링크를 참조하세요\n",
    "- [A Unified Approach to Interpreting Model Predictions] Lundberg, Scott M., and Su-In Lee Advances in Neural Information Processing Systems. 2017.\n",
    "- Interpretable ML Book (SHAP chapter): http://christophm.github.io/interpretable-ml-book/shap.html"
   ]
  },
  {
   "cell_type": "code",
   "execution_count": null,
   "id": "blond-musical",
   "metadata": {},
   "outputs": [],
   "source": [
    "%load_ext autoreload\n",
    "%autoreload 2\n",
    "!pip install -qU shap"
   ]
  },
  {
   "cell_type": "code",
   "execution_count": null,
   "id": "opposed-symphony",
   "metadata": {},
   "outputs": [],
   "source": [
    "from autogluon.tabular import TabularDataset, TabularPredictor\n",
    "import pandas as pd\n",
    "import numpy as np\n",
    "import sklearn\n",
    "import shap\n",
    "shap.initjs()\n",
    "\n",
    "import warnings\n",
    "warnings.filterwarnings('ignore')"
   ]
  },
  {
   "cell_type": "markdown",
   "id": "purple-electricity",
   "metadata": {},
   "source": [
    "<br>\n",
    "\n",
    "## 1. Data preparation and Training"
   ]
  },
  {
   "cell_type": "code",
   "execution_count": null,
   "id": "owned-promotion",
   "metadata": {},
   "outputs": [],
   "source": [
    "N_SUBSAMPLE = 500  # subsample datasets for faster demo\n",
    "N_TEST = 50\n",
    "NSHAP_SAMPLES = 10  # how many samples to use to approximate each Shapely value, larger values will be slower\n",
    "\n",
    "train_data = TabularDataset('https://autogluon.s3.amazonaws.com/datasets/Inc/train.csv')  # can be local CSV file as well, returns Pandas DataFrame\n",
    "train_data = train_data.sample(N_SUBSAMPLE)\n",
    "test_data = TabularDataset('https://autogluon.s3.amazonaws.com/datasets/Inc/test.csv')\n",
    "test_data = test_data.sample(N_TEST)\n",
    "\n",
    "label = 'class'\n",
    "\n",
    "y_train = train_data[label]\n",
    "y_test = test_data[label]\n",
    "X_train = pd.DataFrame(train_data.drop(columns=[label]))\n",
    "X_test = pd.DataFrame(test_data.drop(columns=[label]))\n",
    "\n",
    "display(train_data.head())"
   ]
  },
  {
   "cell_type": "code",
   "execution_count": null,
   "id": "charitable-radar",
   "metadata": {},
   "outputs": [],
   "source": [
    "predictor = TabularPredictor(label=label, problem_type='binary').fit(train_data, time_limit=20)"
   ]
  },
  {
   "cell_type": "markdown",
   "id": "intimate-learning",
   "metadata": {},
   "source": [
    "<br>\n",
    "\n",
    "## 2. Explain predictions\n",
    "\n",
    "SHAP은 각 피쳐가 예측 결과에 \"얼마나\" 기여하는지 설명합니다. 구체적으로 baseline에서 positive 클래스의 예측 확률 간의 편차로 정량화되며,\n",
    "신규 데이터에 대한 예측 시에는 훈련 데이터에 대한 평균 예측과 다른 각 피쳐가 예측에 얼마나 기여하는지 정량화합니다."
   ]
  },
  {
   "cell_type": "code",
   "execution_count": null,
   "id": "hydraulic-installation",
   "metadata": {},
   "outputs": [],
   "source": [
    "class AutogluonWrapper:\n",
    "    def __init__(self, predictor, feature_names):\n",
    "        self.ag_model = predictor\n",
    "        self.feature_names = feature_names\n",
    "    \n",
    "    def predict_proba(self, X):\n",
    "        if isinstance(X, pd.Series):\n",
    "            X = X.values.reshape(1,-1)\n",
    "        if not isinstance(X, pd.DataFrame):\n",
    "            X = pd.DataFrame(X, columns=self.feature_names)\n",
    "        return self.ag_model.predict_proba(X)"
   ]
  },
  {
   "cell_type": "markdown",
   "id": "fixed-arnold",
   "metadata": {},
   "source": [
    "피쳐의 baseline reference 값을 정의합니다. "
   ]
  },
  {
   "cell_type": "code",
   "execution_count": null,
   "id": "figured-nebraska",
   "metadata": {},
   "outputs": [],
   "source": [
    "baseline = X_train.sample(100) # X_train.mode() could also be reasonable baseline for both numerical/categorical features rather than an entire dataset."
   ]
  },
  {
   "cell_type": "markdown",
   "id": "atlantic-flush",
   "metadata": {},
   "source": [
    "AutoGluon 예측 결과를 설명하기 위해 Kernel SHAP 값을 반환하는 KernelExplainer를 생성합니다."
   ]
  },
  {
   "cell_type": "code",
   "execution_count": null,
   "id": "acquired-cover",
   "metadata": {},
   "outputs": [],
   "source": [
    "ag_wrapper = AutogluonWrapper(predictor, X_train.columns)\n",
    "explainer = shap.KernelExplainer(ag_wrapper.predict_proba, baseline)\n",
    "print(\"Baseline prediction: \", np.mean(ag_wrapper.predict_proba(baseline)))  # this is the same as explainer.expected_value"
   ]
  },
  {
   "cell_type": "markdown",
   "id": "further-powder",
   "metadata": {},
   "source": [
    "### SHAP for single datapoint\n",
    "\n",
    "훈련 데이터셋 내의 임의의 데이터 포인트에 대해 SHAP을 plot해 보겠습니다."
   ]
  },
  {
   "cell_type": "code",
   "execution_count": null,
   "id": "minus-funds",
   "metadata": {},
   "outputs": [],
   "source": [
    "ROW_INDEX = 0  # index of an example datapoint\n",
    "single_datapoint = X_train.iloc[[ROW_INDEX]]\n",
    "single_prediction = ag_wrapper.predict_proba(single_datapoint)\n",
    "shap_values_single = explainer.shap_values(single_datapoint, nsamples=NSHAP_SAMPLES)"
   ]
  },
  {
   "cell_type": "code",
   "execution_count": null,
   "id": "utility-tours",
   "metadata": {},
   "outputs": [],
   "source": [
    "shap.force_plot(explainer.expected_value[0], shap_values_single[0], X_train.iloc[ROW_INDEX,:])"
   ]
  },
  {
   "cell_type": "code",
   "execution_count": null,
   "id": "quick-gospel",
   "metadata": {},
   "outputs": [],
   "source": [
    "shap.force_plot(explainer.expected_value[1], shap_values_single[1], X_train.iloc[ROW_INDEX,:])"
   ]
  },
  {
   "cell_type": "markdown",
   "id": "multiple-elizabeth",
   "metadata": {},
   "source": [
    "### SHAP for dataset\n",
    "\n",
    "테스트 데이터셋의 모든 데이터 포인트에 대해서도 SHAP을 plot할 수 있습니다."
   ]
  },
  {
   "cell_type": "code",
   "execution_count": null,
   "id": "protected-python",
   "metadata": {},
   "outputs": [],
   "source": [
    "shap_values = explainer.shap_values(X_test, nsamples=NSHAP_SAMPLES)\n",
    "shap.force_plot(explainer.expected_value[0], shap_values[0], X_test)"
   ]
  },
  {
   "cell_type": "code",
   "execution_count": null,
   "id": "needed-lotus",
   "metadata": {},
   "outputs": [],
   "source": [
    "shap.summary_plot(shap_values, X_test)"
   ]
  },
  {
   "cell_type": "code",
   "execution_count": null,
   "id": "binary-window",
   "metadata": {},
   "outputs": [],
   "source": [
    "shap.summary_plot(shap_values[0], X_test)"
   ]
  },
  {
   "cell_type": "code",
   "execution_count": null,
   "id": "handmade-inspiration",
   "metadata": {},
   "outputs": [],
   "source": [
    "shap.dependence_plot(\"education-num\", shap_values[0], X_test)"
   ]
  },
  {
   "cell_type": "markdown",
   "id": "another-twins",
   "metadata": {},
   "source": [
    "### Overall Feature Importance \n",
    "\n",
    "개별 예측을 설명하는 대신 각 피쳐가 AutoGluon의 일반적인 예측 정확도에 얼마나 기여하는지 알고 싶다면 Permutation Shuffling을 활용할 수 있습니다."
   ]
  },
  {
   "cell_type": "code",
   "execution_count": null,
   "id": "early-teaching",
   "metadata": {},
   "outputs": [],
   "source": [
    "predictor.feature_importance(test_data)"
   ]
  },
  {
   "cell_type": "markdown",
   "id": "internal-ocean",
   "metadata": {},
   "source": [
    "<br>\n",
    "\n",
    "## 3. Multiclass Classification\n",
    "다중(multi) 클래스 분류도 SHAP 적용이 가능합니다. 이번에는 개인 소득 대신 가족 관계(relationshop)를 예측하는 문제로 변경해서 훈련을 수행 후 SHAP을 확인해 보겠습니다."
   ]
  },
  {
   "cell_type": "code",
   "execution_count": null,
   "id": "independent-joint",
   "metadata": {},
   "outputs": [],
   "source": [
    "label = 'relationship'\n",
    "\n",
    "y_train = train_data[label]\n",
    "y_test = test_data[label]\n",
    "X_train = pd.DataFrame(train_data.drop(columns=[label]))\n",
    "X_test = pd.DataFrame(test_data.drop(columns=[label]))\n",
    "\n",
    "display(train_data.head())\n",
    "print(\"Possible classes: \\n\", train_data[label].value_counts())"
   ]
  },
  {
   "cell_type": "markdown",
   "id": "elementary-swaziland",
   "metadata": {},
   "source": [
    "`problem_type`을 지정하지 않아도 AutoGluon에서 자동으로 처리하지만, 안전하게 `problem_type=multiclass`로 지정합니다."
   ]
  },
  {
   "cell_type": "code",
   "execution_count": null,
   "id": "banner-telling",
   "metadata": {},
   "outputs": [],
   "source": [
    "predictor_multi = TabularPredictor(label=label, problem_type='multiclass').fit(train_data, time_limit=20)"
   ]
  },
  {
   "cell_type": "code",
   "execution_count": null,
   "id": "decimal-stone",
   "metadata": {},
   "outputs": [],
   "source": [
    "baseline = X_train.sample(100) # X_train.mode() could also be reasonable baseline for both numerical/categorical features rather than an entire dataset.\n",
    "\n",
    "ag_wrapper = AutogluonWrapper(predictor_multi, X_train.columns)\n",
    "explainer = shap.KernelExplainer(ag_wrapper.predict_proba, baseline)"
   ]
  },
  {
   "cell_type": "code",
   "execution_count": null,
   "id": "intelligent-assumption",
   "metadata": {},
   "outputs": [],
   "source": [
    "pd.DataFrame(np.mean(ag_wrapper.predict_proba(baseline),axis=0))"
   ]
  },
  {
   "cell_type": "code",
   "execution_count": null,
   "id": "confirmed-attendance",
   "metadata": {},
   "outputs": [],
   "source": [
    "print(\"Class Info: \\n\", predictor_multi.class_labels)\n",
    "\n",
    "NSHAP_SAMPLES = 10  # how many samples to use to approximate each Shapely value, larger values will be slower\n",
    "shap.initjs()"
   ]
  },
  {
   "cell_type": "markdown",
   "id": "metallic-treatment",
   "metadata": {},
   "source": [
    "class 중 Not-in-family에 대해서 SHAP을 plot해 보겠습니다."
   ]
  },
  {
   "cell_type": "code",
   "execution_count": null,
   "id": "russian-colorado",
   "metadata": {},
   "outputs": [],
   "source": [
    "ROW_INDEX = 0  # index of an example datapoint\n",
    "class_of_interest = ' Not-in-family'  # can be any value in set(y_train)\n",
    "class_index = predictor_multi.class_labels.index(class_of_interest)\n",
    "\n",
    "single_datapoint = X_train.iloc[[ROW_INDEX]]\n",
    "single_prediction = ag_wrapper.predict_proba(single_datapoint)\n",
    "\n",
    "shap_values_single = explainer.shap_values(single_datapoint, nsamples=NSHAP_SAMPLES)\n",
    "print(\"Shapely values: \\n\", {predictor_multi.class_labels[i]:shap_values_single[i] for i in range(len(predictor_multi.class_labels))})\n",
    "\n",
    "print(f\"Force_plot for class: {class_of_interest}\")\n",
    "shap.force_plot(explainer.expected_value[class_index], shap_values_single[class_index], X_train.iloc[ROW_INDEX,:])"
   ]
  },
  {
   "cell_type": "code",
   "execution_count": null,
   "id": "loaded-bunch",
   "metadata": {},
   "outputs": [],
   "source": [
    "shap_values = explainer.shap_values(X_test, nsamples=NSHAP_SAMPLES)\n",
    "\n",
    "print(f\"Force_plot for class: {class_of_interest}\")\n",
    "shap.force_plot(explainer.expected_value[class_index], shap_values[class_index], X_test)"
   ]
  },
  {
   "cell_type": "code",
   "execution_count": null,
   "id": "disturbed-science",
   "metadata": {},
   "outputs": [],
   "source": [
    "shap.summary_plot(shap_values, X_test)\n",
    "print({\"Class \"+str(i) : predictor_multi.class_labels[i] for i in range(len(predictor_multi.class_labels))})"
   ]
  },
  {
   "cell_type": "code",
   "execution_count": null,
   "id": "advisory-bulgaria",
   "metadata": {},
   "outputs": [],
   "source": [
    "dependence_feature = \"marital-status\"\n",
    "print(f\"Dependence_plot for class: {class_of_interest}  and for feature: {dependence_feature} \\n\")\n",
    "\n",
    "shap.dependence_plot(dependence_feature, shap_values[class_index], X_test)"
   ]
  },
  {
   "cell_type": "code",
   "execution_count": null,
   "id": "recent-lebanon",
   "metadata": {},
   "outputs": [],
   "source": [
    "predictor.feature_importance(test_data)"
   ]
  }
 ],
 "metadata": {
  "kernelspec": {
   "display_name": "conda_mxnet_p36",
   "language": "python",
   "name": "conda_mxnet_p36"
  },
  "language_info": {
   "codemirror_mode": {
    "name": "ipython",
    "version": 3
   },
   "file_extension": ".py",
   "mimetype": "text/x-python",
   "name": "python",
   "nbconvert_exporter": "python",
   "pygments_lexer": "ipython3",
   "version": "3.6.13"
  }
 },
 "nbformat": 4,
 "nbformat_minor": 5
}
